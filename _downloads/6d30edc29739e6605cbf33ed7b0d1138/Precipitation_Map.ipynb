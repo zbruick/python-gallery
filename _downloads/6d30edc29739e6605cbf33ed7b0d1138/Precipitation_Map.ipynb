{
  "cells": [
    {
      "cell_type": "code",
      "execution_count": null,
      "metadata": {
        "collapsed": false
      },
      "outputs": [],
      "source": [
        "%matplotlib inline"
      ]
    },
    {
      "cell_type": "markdown",
      "metadata": {},
      "source": [
        "\n# NWS Precipitation Map\n\n\nPlot a 1-day precipitation map using a netCDF file from the National Weather Service.\n\nThis opens the data directly in memory using the support in the netCDF library to open\nfrom an existing memory buffer. In addition to CartoPy and Matplotlib, this uses\na custom colortable as well as MetPy's unit support.\n"
      ]
    },
    {
      "cell_type": "markdown",
      "metadata": {},
      "source": [
        "Imports\n\n"
      ]
    },
    {
      "cell_type": "code",
      "execution_count": null,
      "metadata": {
        "collapsed": false
      },
      "outputs": [],
      "source": [
        "from datetime import datetime, timedelta\nfrom urllib.request import urlopen\n\nimport cartopy.crs as ccrs\nimport cartopy.feature as cfeature\nimport matplotlib.colors as mcolors\nimport matplotlib.pyplot as plt\nfrom metpy.units import masked_array, units\nfrom netCDF4 import Dataset"
      ]
    },
    {
      "cell_type": "markdown",
      "metadata": {},
      "source": [
        "Download the data from the National Weather Service.\n\n"
      ]
    },
    {
      "cell_type": "code",
      "execution_count": null,
      "metadata": {
        "collapsed": false
      },
      "outputs": [],
      "source": [
        "dt = datetime.utcnow() - timedelta(days=1)  # This should always be available\nurl = 'http://water.weather.gov/precip/downloads/{dt:%Y/%m/%d}/nws_precip_1day_'\\\n      '{dt:%Y%m%d}_conus.nc'.format(dt=dt)\ndata = urlopen(url).read()\nnc = Dataset('', memory=data)"
      ]
    },
    {
      "cell_type": "markdown",
      "metadata": {},
      "source": [
        "Pull the needed information out of the netCDF file\n\n"
      ]
    },
    {
      "cell_type": "code",
      "execution_count": null,
      "metadata": {
        "collapsed": false
      },
      "outputs": [],
      "source": [
        "prcpvar = nc.variables['observation']\ndata = masked_array(prcpvar[:], units(prcpvar.units.lower())).to('mm')\nx = nc.variables['x'][:]\ny = nc.variables['y'][:]\nproj_var = nc.variables[prcpvar.grid_mapping]"
      ]
    },
    {
      "cell_type": "markdown",
      "metadata": {},
      "source": [
        "Set up the projection information within CartoPy\n\n"
      ]
    },
    {
      "cell_type": "code",
      "execution_count": null,
      "metadata": {
        "collapsed": false
      },
      "outputs": [],
      "source": [
        "globe = ccrs.Globe(semimajor_axis=proj_var.earth_radius)\nproj = ccrs.Stereographic(central_latitude=90.0,\n                          central_longitude=proj_var.straight_vertical_longitude_from_pole,\n                          true_scale_latitude=proj_var.standard_parallel, globe=globe)"
      ]
    },
    {
      "cell_type": "markdown",
      "metadata": {},
      "source": [
        "Create the figure and plot the data\ncreate figure and axes instances\n\n"
      ]
    },
    {
      "cell_type": "code",
      "execution_count": null,
      "metadata": {
        "collapsed": false
      },
      "outputs": [],
      "source": [
        "fig = plt.figure(figsize=(8, 8))\nax = fig.add_subplot(1, 1, 1, projection=proj)\n\n# draw coastlines, state and country boundaries, edge of map.\nax.coastlines()\nax.add_feature(cfeature.BORDERS)\nax.add_feature(cfeature.STATES)\n\n# draw filled contours.\nclevs = [0, 1, 2.5, 5, 7.5, 10, 15, 20, 30, 40,\n         50, 70, 100, 150, 200, 250, 300, 400, 500, 600, 750]\n# In future MetPy\n# norm, cmap = ctables.registry.get_with_boundaries('precipitation', clevs)\ncmap_data = [(1.0, 1.0, 1.0),\n             (0.3137255012989044, 0.8156862854957581, 0.8156862854957581),\n             (0.0, 1.0, 1.0),\n             (0.0, 0.8784313797950745, 0.501960813999176),\n             (0.0, 0.7529411911964417, 0.0),\n             (0.501960813999176, 0.8784313797950745, 0.0),\n             (1.0, 1.0, 0.0),\n             (1.0, 0.6274510025978088, 0.0),\n             (1.0, 0.0, 0.0),\n             (1.0, 0.125490203499794, 0.501960813999176),\n             (0.9411764740943909, 0.250980406999588, 1.0),\n             (0.501960813999176, 0.125490203499794, 1.0),\n             (0.250980406999588, 0.250980406999588, 1.0),\n             (0.125490203499794, 0.125490203499794, 0.501960813999176),\n             (0.125490203499794, 0.125490203499794, 0.125490203499794),\n             (0.501960813999176, 0.501960813999176, 0.501960813999176),\n             (0.8784313797950745, 0.8784313797950745, 0.8784313797950745),\n             (0.9333333373069763, 0.8313725590705872, 0.7372549176216125),\n             (0.8549019694328308, 0.6509804129600525, 0.47058823704719543),\n             (0.6274510025978088, 0.42352941632270813, 0.23529411852359772),\n             (0.4000000059604645, 0.20000000298023224, 0.0)]\ncmap = mcolors.ListedColormap(cmap_data, 'precipitation')\nnorm = mcolors.BoundaryNorm(clevs, cmap.N)\n\ncs = ax.contourf(x, y, data, clevs, cmap=cmap, norm=norm)\n\n# add colorbar.\ncbar = plt.colorbar(cs, orientation='horizontal')\ncbar.set_label(data.units)\n\nax.set_title(prcpvar.long_name + ' for period ending ' + nc.creation_time)\nplt.show()"
      ]
    }
  ],
  "metadata": {
    "kernelspec": {
      "display_name": "Python 3",
      "language": "python",
      "name": "python3"
    },
    "language_info": {
      "codemirror_mode": {
        "name": "ipython",
        "version": 3
      },
      "file_extension": ".py",
      "mimetype": "text/x-python",
      "name": "python",
      "nbconvert_exporter": "python",
      "pygments_lexer": "ipython3",
      "version": "3.7.3"
    }
  },
  "nbformat": 4,
  "nbformat_minor": 0
}