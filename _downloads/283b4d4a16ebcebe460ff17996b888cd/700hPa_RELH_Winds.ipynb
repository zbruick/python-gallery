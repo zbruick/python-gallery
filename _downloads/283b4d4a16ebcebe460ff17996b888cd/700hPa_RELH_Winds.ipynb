{
  "cells": [
    {
      "cell_type": "code",
      "execution_count": null,
      "metadata": {
        "collapsed": false
      },
      "outputs": [],
      "source": [
        "%matplotlib inline"
      ]
    },
    {
      "cell_type": "markdown",
      "metadata": {},
      "source": [
        "\n700-hPa Relative Humidity\n=========================\n\nClassic 700-hPa Map that displays Relative Humidity\n\nBy: Kevin Goebbert\n\nThis example uses GFS output to displays common 700-hPa parameters\nincluding relative humidity.\n"
      ]
    },
    {
      "cell_type": "markdown",
      "metadata": {},
      "source": [
        "Import needed modules\n\n\n"
      ]
    },
    {
      "cell_type": "code",
      "execution_count": null,
      "metadata": {
        "collapsed": false
      },
      "outputs": [],
      "source": [
        "import cartopy.crs as ccrs\nimport cartopy.feature as cfeature\nimport matplotlib.pyplot as plt\nimport metpy.calc as mpcalc\nfrom metpy.units import units\nimport numpy as np\nimport xarray as xr"
      ]
    },
    {
      "cell_type": "markdown",
      "metadata": {},
      "source": [
        "Access data using Xarray\n\n\n"
      ]
    },
    {
      "cell_type": "code",
      "execution_count": null,
      "metadata": {
        "collapsed": false
      },
      "outputs": [],
      "source": [
        "ds = xr.open_dataset('https://thredds.ucar.edu/thredds/dodsC/casestudies/'\n                     'python-gallery/GFS_20101026_1200.nc').metpy.parse_cf()\n\n# Fix units on Relative Humidity\nds.Relative_humidity_isobaric.attrs['units'] = 'percent'"
      ]
    },
    {
      "cell_type": "markdown",
      "metadata": {},
      "source": [
        "Data Parsing\n------------\n\nParse out desired data and attach units.\n\nSmooth using MetPy\u2019s ``smooth_gaussian`` function to minimize noise in\noutput.\n\n\n"
      ]
    },
    {
      "cell_type": "code",
      "execution_count": null,
      "metadata": {
        "collapsed": false
      },
      "outputs": [],
      "source": [
        "# Set subset slice for the geographic extent of data to limit download\nlon_slice = slice(200, 350)\nlat_slice = slice(85, 10)\n\n# Grab lat/lon values (GFS will be 1D)\nlats = ds.lat.sel(lat=lat_slice).values\nlons = ds.lon.sel(lon=lon_slice).values\n\n# Select specific level data\nlevel = 700 * units.hPa\nhght_700 = mpcalc.smooth_gaussian(ds['Geopotential_height_isobaric'].metpy.sel(\n    vertical=level, lon=lon_slice, lat=lat_slice).squeeze(), 2)\ntmpk_700 = mpcalc.smooth_gaussian(ds['Temperature_isobaric'].metpy.sel(\n    vertical=level, lon=lon_slice, lat=lat_slice).squeeze(), 2)\nuwnd_700 = mpcalc.smooth_gaussian(ds['u-component_of_wind_isobaric'].metpy.sel(\n    vertical=level, lon=lon_slice, lat=lat_slice).squeeze(), 2)\nvwnd_700 = mpcalc.smooth_gaussian(ds['v-component_of_wind_isobaric'].metpy.sel(\n    vertical=level, lon=lon_slice, lat=lat_slice).squeeze(), 2)\nrelh_700 = mpcalc.smooth_gaussian(ds['Relative_humidity_isobaric'].metpy.sel(\n    vertical=level, lon=lon_slice, lat=lat_slice).squeeze(), 2)\n\n# Convert temperature to Celsius for plotting purposes\ntmpc_700 = tmpk_700.to('degC')\n\n# Get times in nice datetime format\nvtime = ds.time.data.squeeze().astype('datetime64[ms]').astype('O')"
      ]
    },
    {
      "cell_type": "markdown",
      "metadata": {},
      "source": [
        "Plot Data\n---------\n\nUse Cartopy to plot 700-hPa data on a Lambert Conformal Map and\ncolorfill the relative humidity\n\n\n"
      ]
    },
    {
      "cell_type": "code",
      "execution_count": null,
      "metadata": {
        "collapsed": false
      },
      "outputs": [],
      "source": [
        "# Set graphic projection\nmapcrs = ccrs.LambertConformal(central_longitude=-100, central_latitude=35,\n                               standard_parallels=(30, 60))\n\n# Set data projection\ndatacrs = ccrs.PlateCarree()\n\n# Begin figure and set CONUS areal extent\nfig = plt.figure(1, figsize=(14, 12))\nax = plt.subplot(111, projection=mapcrs)\nax.set_extent([-130, -72, 20, 55], ccrs.PlateCarree())\n\n# Add coastlines and state boundaries\nax.add_feature(cfeature.COASTLINE.with_scale('50m'))\nax.add_feature(cfeature.STATES.with_scale('50m'))\n\n# Plot Colorfill of 700-hPa relative humidity -\n# normalize color to not have too dark of green at the top end\nclevs_700_relh = np.arange(70, 101, 2)\ncf = ax.contourf(lons, lats, relh_700, clevs_700_relh, cmap=plt.cm.Greens,\n                 norm=plt.Normalize(70, 110), transform=datacrs)\ncb = plt.colorbar(cf, orientation='horizontal', pad=0, aspect=50)\ncb.set_label('Rel. Humidity (%)')\n\n# Plot contours of 700-hPa temperature in Celsius in red, dashed lines\nclevs_700_tmpc = np.arange(-40, 41, 2)\ncs1 = ax.contour(lons, lats, tmpc_700, clevs_700_tmpc, colors='tab:red',\n                 linestyles='dashed', transform=datacrs)\nax.clabel(cs1, fmt='%d')\n\n# Plot contours of 700-hPa geopotential height in black, solid lines\nclevs_700_hght = np.arange(0, 8000, 30)\ncs2 = ax.contour(lons, lats, hght_700, clevs_700_hght, colors='black', transform=datacrs)\nax.clabel(cs2, fmt='%d', fontsize='large')\n\n# Plot 700-hPa wind barbs in knots\nax.barbs(lons, lats, uwnd_700.to('kt').m, vwnd_700.to('kt').m, pivot='middle',\n         color='black', regrid_shape=20, transform=datacrs)\n\n# Add some useful titles\nplt.title('700-hPa GFS Geopotential Heights (m), Temperature (C),'\n          ' and Wind Barbs (kt)', loc='left')\nplt.title('Valid Time: {}'.format(vtime), loc='right')\n\nplt.show()"
      ]
    }
  ],
  "metadata": {
    "kernelspec": {
      "display_name": "Python 3",
      "language": "python",
      "name": "python3"
    },
    "language_info": {
      "codemirror_mode": {
        "name": "ipython",
        "version": 3
      },
      "file_extension": ".py",
      "mimetype": "text/x-python",
      "name": "python",
      "nbconvert_exporter": "python",
      "pygments_lexer": "ipython3",
      "version": "3.7.3"
    }
  },
  "nbformat": 4,
  "nbformat_minor": 0
}