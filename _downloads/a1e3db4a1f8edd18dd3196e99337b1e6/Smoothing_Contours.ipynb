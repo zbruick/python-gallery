{
  "cells": [
    {
      "cell_type": "code",
      "execution_count": null,
      "metadata": {
        "collapsed": false
      },
      "outputs": [],
      "source": [
        "%matplotlib inline"
      ]
    },
    {
      "cell_type": "markdown",
      "metadata": {},
      "source": [
        "\n# Smoothing Contours\n\n\nDemonstrate how to smooth contour values from a higher resolution\nmodel field.\n\nBy: Kevin Goebbert\n\nDate: 13 April 2017\n"
      ]
    },
    {
      "cell_type": "markdown",
      "metadata": {},
      "source": [
        "Do the needed imports\n\n"
      ]
    },
    {
      "cell_type": "code",
      "execution_count": null,
      "metadata": {
        "collapsed": false
      },
      "outputs": [],
      "source": [
        "from datetime import datetime\n\nimport cartopy.crs as ccrs\nimport cartopy.feature as cfeature\nimport matplotlib.pyplot as plt\nimport metpy.calc as mpcalc\nfrom metpy.units import units\nfrom netCDF4 import num2date\nimport numpy as np\nimport scipy.ndimage as ndimage\nfrom siphon.ncss import NCSS"
      ]
    },
    {
      "cell_type": "markdown",
      "metadata": {},
      "source": [
        "Set up netCDF Subset Service link\n\n"
      ]
    },
    {
      "cell_type": "code",
      "execution_count": null,
      "metadata": {
        "collapsed": false
      },
      "outputs": [],
      "source": [
        "dt = datetime(2016, 4, 16, 18)\nbase_url = 'https://www.ncei.noaa.gov/thredds/ncss/grid/namanl/'\nncss = NCSS('{}{dt:%Y%m}/{dt:%Y%m%d}/namanl_218_{dt:%Y%m%d}_'\n            '{dt:%H}00_000.grb'.format(base_url, dt=dt))\n\n# Data Query\nhgt = ncss.query().time(dt)\nhgt.variables('Geopotential_height_isobaric', 'u-component_of_wind_isobaric',\n              'v-component_of_wind_isobaric').add_lonlat()\n\n# Actually getting the data\ndata = ncss.get_data(hgt)"
      ]
    },
    {
      "cell_type": "markdown",
      "metadata": {},
      "source": [
        "Pull apart the data\n\n"
      ]
    },
    {
      "cell_type": "code",
      "execution_count": null,
      "metadata": {
        "collapsed": false
      },
      "outputs": [],
      "source": [
        "# Get dimension names to pull appropriate variables\ndtime = data.variables['Geopotential_height_isobaric'].dimensions[0]\ndlev = data.variables['Geopotential_height_isobaric'].dimensions[1]\ndlat = data.variables['Geopotential_height_isobaric'].dimensions[2]\ndlon = data.variables['Geopotential_height_isobaric'].dimensions[3]\n\n# Get lat and lon data, as well as time data and metadata\nlats = data.variables['lat'][:]\nlons = data.variables['lon'][:]\nlons[lons > 180] = lons[lons > 180] - 360\n\n# Need 2D lat/lons for plotting, do so if necessary\nif lats.ndim < 2:\n    lons, lats = np.meshgrid(lons, lats)\n\n# Determine the level of 500 hPa\nlevs = data.variables[dlev][:]\nlev_500 = np.where(levs == 500)[0][0]\n\n# Create more useable times for output\ntimes = data.variables[dtime]\nvtimes = num2date(times[:], times.units)\n\n# Pull out the 500 hPa Heights\nhght = data.variables['Geopotential_height_isobaric'][:].squeeze() * units.meter\nuwnd = units('m/s') * data.variables['u-component_of_wind_isobaric'][:].squeeze()\nvwnd = units('m/s') * data.variables['v-component_of_wind_isobaric'][:].squeeze()\n\n# Calculate the magnitude of the wind speed in kts\nsped = mpcalc.wind_speed(uwnd, vwnd).to('knots')"
      ]
    },
    {
      "cell_type": "markdown",
      "metadata": {},
      "source": [
        "Set up the projection for LCC\n\n"
      ]
    },
    {
      "cell_type": "code",
      "execution_count": null,
      "metadata": {
        "collapsed": false
      },
      "outputs": [],
      "source": [
        "plotcrs = ccrs.LambertConformal(central_longitude=-100.0, central_latitude=45.0)\ndatacrs = ccrs.PlateCarree(central_longitude=0.)"
      ]
    },
    {
      "cell_type": "markdown",
      "metadata": {},
      "source": [
        "Subset and smooth\n\n"
      ]
    },
    {
      "cell_type": "code",
      "execution_count": null,
      "metadata": {
        "collapsed": false
      },
      "outputs": [],
      "source": [
        "# Subset the data arrays to grab only 500 hPa\nhght_500 = hght[lev_500]\nuwnd_500 = uwnd[lev_500]\nvwnd_500 = vwnd[lev_500]\n\n# Smooth the 500-hPa geopotential height field\n# Be sure to only smooth the 2D field\nZ_500 = ndimage.gaussian_filter(hght_500, sigma=5, order=0)"
      ]
    },
    {
      "cell_type": "markdown",
      "metadata": {},
      "source": [
        "Plot the contours\n\n"
      ]
    },
    {
      "cell_type": "code",
      "execution_count": null,
      "metadata": {
        "collapsed": false
      },
      "outputs": [],
      "source": [
        "# Start plot with new figure and axis\nfig = plt.figure(figsize=(17., 11.))\nax = plt.subplot(1, 1, 1, projection=plotcrs)\n\n# Add some titles to make the plot readable by someone else\nplt.title('500-hPa Geo Heights (m; black), Smoothed 500-hPa Geo. Heights (m; red)',\n          loc='left')\nplt.title('VALID: {}'.format(vtimes[0]), loc='right')\n\n# Set GAREA and add map features\nax.set_extent([-125., -67., 22., 52.], ccrs.PlateCarree())\nax.coastlines('50m', edgecolor='black', linewidth=0.75)\nax.add_feature(cfeature.STATES, linewidth=0.5)\n\n# Set the CINT\nclev500 = np.arange(5100, 6000, 60)\n\n# Plot smoothed 500-hPa contours\ncs2 = ax.contour(lons, lats, Z_500, clev500, colors='red',\n                 linewidths=3, linestyles='solid', transform=datacrs)\nc2 = plt.clabel(cs2, fontsize=12, colors='red', inline=1, inline_spacing=8,\n                fmt='%i', rightside_up=True, use_clabeltext=True)\n\n# Contour the 500 hPa heights with labels\ncs = ax.contour(lons, lats, hght_500, clev500, colors='black',\n                linewidths=2.5, linestyles='solid', alpha=0.6, transform=datacrs)\ncl = plt.clabel(cs, fontsize=12, colors='k', inline=1, inline_spacing=8,\n                fmt='%i', rightside_up=True, use_clabeltext=True)\n\nplt.show()"
      ]
    }
  ],
  "metadata": {
    "kernelspec": {
      "display_name": "Python 3",
      "language": "python",
      "name": "python3"
    },
    "language_info": {
      "codemirror_mode": {
        "name": "ipython",
        "version": 3
      },
      "file_extension": ".py",
      "mimetype": "text/x-python",
      "name": "python",
      "nbconvert_exporter": "python",
      "pygments_lexer": "ipython3",
      "version": "3.7.3"
    }
  },
  "nbformat": 4,
  "nbformat_minor": 0
}