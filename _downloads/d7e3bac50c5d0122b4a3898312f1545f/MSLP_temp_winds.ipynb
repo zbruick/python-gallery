{
  "cells": [
    {
      "cell_type": "code",
      "execution_count": null,
      "metadata": {
        "collapsed": false
      },
      "outputs": [],
      "source": [
        "%matplotlib inline"
      ]
    },
    {
      "cell_type": "markdown",
      "metadata": {},
      "source": [
        "\n# Model Surface Output\n\n\nPlot an surface map with mean sea level pressure (MSLP),\n2m Temperature (F), and Wind Barbs (kt).\n"
      ]
    },
    {
      "cell_type": "markdown",
      "metadata": {},
      "source": [
        "Imports\n\n"
      ]
    },
    {
      "cell_type": "code",
      "execution_count": null,
      "metadata": {
        "collapsed": false
      },
      "outputs": [],
      "source": [
        "from datetime import datetime\n\nimport cartopy.crs as ccrs\nimport cartopy.feature as cfeature\nimport matplotlib.pyplot as plt\nfrom metpy.units import units\nfrom netCDF4 import num2date\nimport numpy as np\nimport scipy.ndimage as ndimage\nfrom siphon.ncss import NCSS"
      ]
    },
    {
      "cell_type": "markdown",
      "metadata": {},
      "source": [
        "Helper functions\n\n"
      ]
    },
    {
      "cell_type": "code",
      "execution_count": null,
      "metadata": {
        "collapsed": false
      },
      "outputs": [],
      "source": [
        "# Helper function for finding proper time variable\ndef find_time_var(var, time_basename='time'):\n    for coord_name in var.coordinates.split():\n        if coord_name.startswith(time_basename):\n            return coord_name\n    raise ValueError('No time variable found for ' + var.name)"
      ]
    },
    {
      "cell_type": "markdown",
      "metadata": {},
      "source": [
        "Create NCSS object to access the NetcdfSubset\n---------------------------------------------\nData from NCEI GFS 0.5 deg Analysis Archive\n\n"
      ]
    },
    {
      "cell_type": "code",
      "execution_count": null,
      "metadata": {
        "collapsed": false
      },
      "outputs": [],
      "source": [
        "base_url = 'https://www.ncei.noaa.gov/thredds/ncss/grid/gfs-g4-anl-files/'\ndt = datetime(2018, 1, 4, 12)\nncss = NCSS('{}{dt:%Y%m}/{dt:%Y%m%d}/gfsanl_4_{dt:%Y%m%d}'\n            '_{dt:%H}00_000.grb2'.format(base_url, dt=dt))\n\n# Create lat/lon box for location you want to get data for\nquery = ncss.query().time(dt)\nquery.lonlat_box(north=65, south=15, east=310, west=220)\nquery.accept('netcdf')\n\n# Request data for model \"surface\" data\nquery.variables('Pressure_reduced_to_MSL_msl',\n                'Apparent_temperature_height_above_ground',\n                'u-component_of_wind_height_above_ground',\n                'v-component_of_wind_height_above_ground')\ndata = ncss.get_data(query)"
      ]
    },
    {
      "cell_type": "markdown",
      "metadata": {},
      "source": [
        "Begin data maipulation\n-----------------------\nData for the surface from a model is a bit complicated.\nThe variables come from different levels and may have different data array shapes.\n\nMSLP: Pressure_reduced_to_MSL_msl (time, lat, lon)\n2m Temp: Apparent_temperature_height_above_ground (time, level, lat, lon)\n10m Wind: u/v-component_of_wind_height_above_ground (time, level, lat, lon)\n\nHeight above ground Temp from GFS has one level (2m)\nHeight above ground Wind from GFS has three levels (10m, 80m, 100m)\n\n"
      ]
    },
    {
      "cell_type": "code",
      "execution_count": null,
      "metadata": {
        "collapsed": false
      },
      "outputs": [],
      "source": [
        "# Pull out variables you want to use\nmslp = data.variables['Pressure_reduced_to_MSL_msl'][:].squeeze()\ntemp = units.K * data.variables['Apparent_temperature_height_above_ground'][:].squeeze()\nu_wind = units('m/s') * data.variables['u-component_of_wind_height_above_ground'][:].squeeze()\nv_wind = units('m/s') * data.variables['v-component_of_wind_height_above_ground'][:].squeeze()\nlat = data.variables['lat'][:].squeeze()\nlon = data.variables['lon'][:].squeeze()\ntime_var = data.variables[find_time_var(data.variables['Pressure_reduced_to_MSL_msl'])]\n\n# Convert winds to knots\nu_wind.ito('kt')\nv_wind.ito('kt')\n\n# Convert number of hours since the reference time into an actual date\ntime = num2date(time_var[:].squeeze(), time_var.units)\n\nlev_10m = np.where(data.variables['height_above_ground3'][:] == 10)[0][0]\nu_wind_10m = u_wind[lev_10m]\nv_wind_10m = v_wind[lev_10m]\n\n# Combine 1D latitude and longitudes into a 2D grid of locations\nlon_2d, lat_2d = np.meshgrid(lon, lat)\n\n# Smooth MSLP a little\n# Be sure to only put in a 2D lat/lon or Y/X array for smoothing\nsmooth_mslp = ndimage.gaussian_filter(mslp, sigma=3, order=0) * units.Pa\nsmooth_mslp.ito('hPa')"
      ]
    },
    {
      "cell_type": "markdown",
      "metadata": {},
      "source": [
        "Begin map creation\n------------------\n\n"
      ]
    },
    {
      "cell_type": "code",
      "execution_count": null,
      "metadata": {
        "collapsed": false
      },
      "outputs": [],
      "source": [
        "# Set Projection of Data\ndatacrs = ccrs.PlateCarree()\n\n# Set Projection of Plot\nplotcrs = ccrs.LambertConformal(central_latitude=[30, 60], central_longitude=-100)\n\n# Create new figure\nfig = plt.figure(figsize=(11, 8.5))\n\n# Add the map and set the extent\nax = plt.subplot(111, projection=plotcrs)\nplt.title('GFS Analysis MSLP, 2m Temperature (F), Wind Barbs (kt)'\n          ' {0:%d %B %Y %H:%MZ}'.format(time), fontsize=16)\nax.set_extent([235., 290., 20., 55.])\n\n# Add state boundaries to plot\nstates_provinces = cfeature.NaturalEarthFeature(category='cultural',\n                                                name='admin_1_states_provinces_lakes',\n                                                scale='50m', facecolor='none')\nax.add_feature(states_provinces, edgecolor='black', linewidth=1)\n\n# Add country borders to plot\ncountry_borders = cfeature.NaturalEarthFeature(category='cultural',\n                                               name='admin_0_countries',\n                                               scale='50m', facecolor='none')\nax.add_feature(country_borders, edgecolor='black', linewidth=1)\n\n# Plot MSLP Contours\nclev_mslp = np.arange(0, 1200, 4)\ncs = ax.contour(lon_2d, lat_2d, smooth_mslp, clev_mslp, colors='black', linewidths=1.5,\n                linestyles='solid', transform=datacrs)\nplt.clabel(cs, fontsize=10, inline=1, inline_spacing=10, fmt='%i',\n           rightside_up=True, use_clabeltext=True)\n\n# Plot 2m Temperature Contours\nclevtemp = np.arange(-60, 101, 10)\ncs2 = ax.contour(lon_2d, lat_2d, temp.to(units('degF')), clevtemp,\n                 colors='tab:red', linewidths=1.25, linestyles='dotted',\n                 transform=datacrs)\nplt.clabel(cs2, fontsize=10, inline=1, inline_spacing=10, fmt='%i',\n           rightside_up=True, use_clabeltext=True)\n\n# Plot 10m Wind Barbs\nax.barbs(lon_2d, lat_2d, u_wind_10m.magnitude, v_wind_10m.magnitude,\n         length=6, regrid_shape=20, pivot='middle', transform=datacrs)\n\nplt.show()"
      ]
    }
  ],
  "metadata": {
    "kernelspec": {
      "display_name": "Python 3",
      "language": "python",
      "name": "python3"
    },
    "language_info": {
      "codemirror_mode": {
        "name": "ipython",
        "version": 3
      },
      "file_extension": ".py",
      "mimetype": "text/x-python",
      "name": "python",
      "nbconvert_exporter": "python",
      "pygments_lexer": "ipython3",
      "version": "3.7.3"
    }
  },
  "nbformat": 4,
  "nbformat_minor": 0
}