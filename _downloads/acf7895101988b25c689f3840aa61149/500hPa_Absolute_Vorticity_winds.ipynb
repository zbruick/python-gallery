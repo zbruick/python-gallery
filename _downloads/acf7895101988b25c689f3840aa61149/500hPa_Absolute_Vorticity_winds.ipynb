{
  "cells": [
    {
      "cell_type": "code",
      "execution_count": null,
      "metadata": {
        "collapsed": false
      },
      "outputs": [],
      "source": [
        "%matplotlib inline"
      ]
    },
    {
      "cell_type": "markdown",
      "metadata": {},
      "source": [
        "\n500 hPa Geopotential Heights, Absolute Vorticity, and Winds\n===========================================================\n\nClassic 500-hPa absolute vorticity plot using NAM analysis file.\n\nThis example uses example data from the NAM analysis for 12 UTC 31\nOctober 2016 and uses xarray as the main read source with using MetPy to\ncalculate absolute vorticity and wind speed with geographic plotting\nusing Cartopy for a CONUS view of the 500-hPa geopotential heights,\nabsolute vorticity, and wind barbs.\n\nNote: NAM winds are grid relative and this example introduces a simple\nfunction to convert the grid-relative wind components to an\nearth-relative (north/east oriented winds) to enable easier plotting of\nwind barbs and calculation of absolute vorticity.\n"
      ]
    },
    {
      "cell_type": "markdown",
      "metadata": {},
      "source": [
        "Import the needed modules\n\n\n"
      ]
    },
    {
      "cell_type": "code",
      "execution_count": null,
      "metadata": {
        "collapsed": false
      },
      "outputs": [],
      "source": [
        "import cartopy.crs as ccrs\nimport cartopy.feature as cfeature\nimport matplotlib.pyplot as plt\nimport metpy.calc as mpcalc\nfrom metpy.units import units\nimport numpy as np\nimport xarray as xr"
      ]
    },
    {
      "cell_type": "markdown",
      "metadata": {},
      "source": [
        "Function to Compute Earth-Relative Winds\n----------------------------------------\n\nThis function takes a data array with relevant information about the\nprojection of the wind component data, along with the grid-relative\ncomponents of the wind. It outputs the earth-relative components of the\nwind.\n\n\n"
      ]
    },
    {
      "cell_type": "code",
      "execution_count": null,
      "metadata": {
        "collapsed": false
      },
      "outputs": [],
      "source": [
        "def earth_relative_wind_components(da, ugrd, vgrd):\n    \"\"\"Calculate the north-relative components of the wind from the grid-relative\n    components using Cartopy transform_vectors.\n\n    Parameters\n    ----------\n        ds : Xarray DataArray\n            Either of u- or v-component of the wind\n        ugrd : (M, N) Quantity\n            grid relative u-component of the wind\n        vgrd : (M, N) Quantity\n            grid relative v-component of the wind\n\n    Returns\n    -------\n        unr, vnr : tuple of array-like Quantity\n            The north-relative wind components in the X (East-West) and Y (North-South)\n            directions, respectively.\n    \"\"\"\n    if 'crs' not in list(da.coords):\n        raise ValueError('No CRS in coordinate, be sure to use the MetPy accessor parse_cf()')\n\n    data_crs = da.metpy.cartopy_crs\n\n    x = da.x.values\n    y = da.y.values\n\n    xx, yy = np.meshgrid(x, y)\n\n    ut, vt = ccrs.PlateCarree().transform_vectors(data_crs, xx, yy, ugrd.m, vgrd.m)\n    uer = ut * ugrd.units\n    ver = vt * vgrd.units\n\n    return uer, ver"
      ]
    },
    {
      "cell_type": "markdown",
      "metadata": {},
      "source": [
        "The following code reads the example data using the xarray open_dataset\nfunction and prints the coordinate values that are associated with the\nvarious variables contained within the file\n\n\n"
      ]
    },
    {
      "cell_type": "code",
      "execution_count": null,
      "metadata": {
        "collapsed": false
      },
      "outputs": [],
      "source": [
        "ds = xr.open_dataset('https://thredds.ucar.edu/thredds/dodsC/casestudies/'\n                     'python-gallery/NAM_20161031_1200.nc').metpy.parse_cf()"
      ]
    },
    {
      "cell_type": "markdown",
      "metadata": {},
      "source": [
        "Data Retrieval\n--------------\n\nThis code retrieves the necessary data from the file and completes some\nsmoothing of the geopotential height and wind fields using the SciPy\nfunction gaussian_filter. A nicely formated valid time (vtime) variable\nis also created\n\n\n"
      ]
    },
    {
      "cell_type": "code",
      "execution_count": null,
      "metadata": {
        "collapsed": false
      },
      "outputs": [],
      "source": [
        "# Grab lat/lon values (NAM will be 2D)\nlats = ds.lat.data\nlons = ds.lon.data\n\n# Grab x, y data and make 2D for wind component plotting\n# because u- and v-components are grid relative\nx = ds['u-component_of_wind_isobaric'].x\ny = ds['u-component_of_wind_isobaric'].y\n\nxx, yy = np.meshgrid(x, y)\n\n# Grab Cartopy CRS from metadata for plotting wind barbs\ndatacrs = ds['u-component_of_wind_isobaric'].metpy.cartopy_crs\n\n# Select and grab 500-hPa geopotential heights and wind components, smooth with gaussian_filter\nlevel = 500 * units.hPa\nhght_500 = mpcalc.smooth_n_point(ds.Geopotential_height_isobaric.metpy.sel(\n    vertical=level).squeeze(), 9, 50)\nuwnd_500 = mpcalc.smooth_n_point(ds['u-component_of_wind_isobaric'].metpy.sel(\n    vertical=level).squeeze(), 9, 50)\nvwnd_500 = mpcalc.smooth_n_point(ds['v-component_of_wind_isobaric'].metpy.sel(\n    vertical=level).squeeze(), 9, 50)\n\n# Compute north-relative wind components for plotting purposes\nuwnd_er, vwnd_er = earth_relative_wind_components(\n    ds['u-component_of_wind_isobaric'], uwnd_500, vwnd_500)\n\n# Create a clean datetime object for plotting based on time of Geopotential heights\nvtime = ds.time.data[0].astype('datetime64[ms]').astype('O')"
      ]
    },
    {
      "cell_type": "markdown",
      "metadata": {},
      "source": [
        "MetPy Absolute Vorticity Calculation\n------------------------------------\n\nThis code first uses MetPy to calcualte the grid deltas (sign aware) to\nuse for derivative calculations with the funtcion\n``lat_lon_grid_deltas()`` and then calculates ``absolute_vorticity()``\nusing the wind components, grid deltas, and latitude values.\n\n\n"
      ]
    },
    {
      "cell_type": "code",
      "execution_count": null,
      "metadata": {
        "collapsed": false
      },
      "outputs": [],
      "source": [
        "# Calculate grid spacing that is sign aware to use in absolute vorticity calculation\ndx, dy = mpcalc.lat_lon_grid_deltas(lons, lats)\n\n# Calculate absolute vorticity from MetPy function\navor_500 = mpcalc.absolute_vorticity(uwnd_er, vwnd_er, dx, dy, lats * units.degrees,\n                                     dim_order='yx')"
      ]
    },
    {
      "cell_type": "markdown",
      "metadata": {},
      "source": [
        "Map Creation\n------------\n\nThis next set of code creates the plot and draws contours on a Lambert\nConformal map centered on -100 E longitude. The main view is over the\nCONUS with geopotential heights contoured every 60 m and absolute\nvorticity colorshaded ($*10^5$).\n\n\n"
      ]
    },
    {
      "cell_type": "code",
      "execution_count": null,
      "metadata": {
        "collapsed": false
      },
      "outputs": [],
      "source": [
        "# Set up the projection that will be used for plotting\nmapcrs = ccrs.LambertConformal(central_longitude=-100, central_latitude=35,\n                               standard_parallels=(30, 60))\n\n# Set up the projection of the data; if lat/lon then PlateCarree is what you want\ndatacrs = ccrs.PlateCarree()\n\n# Start the figure and create plot axes with proper projection\nfig = plt.figure(1, figsize=(14, 12))\nax = plt.subplot(111, projection=mapcrs)\nax.set_extent([-130, -72, 20, 55], ccrs.PlateCarree())\n\n# Add geopolitical boundaries for map reference\nax.add_feature(cfeature.COASTLINE.with_scale('50m'))\nax.add_feature(cfeature.STATES.with_scale('50m'))\n\n# Absolute Vorticity colors\n# Use two different colormaps from matplotlib and combine into one color set\nclevs_500_avor = list(range(-8, 1, 1))+list(range(8, 46, 1))\ncolors1 = plt.cm.YlOrRd(np.linspace(0, 1, 48))\ncolors2 = plt.cm.BuPu(np.linspace(0.5, 0.75, 8))\ncolors = np.vstack((colors2, (1, 1, 1, 1), colors1))\n\n# Plot absolute vorticity values (multiplying by 10^5 to scale appropriately)\ncf = ax.contourf(lons, lats, avor_500*1e5, clevs_500_avor, colors=colors, extend='max',\n                 transform=datacrs)\ncb = plt.colorbar(cf, orientation='horizontal', pad=0, aspect=50, extendrect=True)\ncb.set_label('Abs. Vorticity ($s^{-1}$)')\n\n# Plot 500-hPa Geopotential Heights in meters\nclevs_500_hght = np.arange(0, 8000, 60)\ncs = ax.contour(lons, lats, hght_500, clevs_500_hght, colors='black', transform=datacrs)\nplt.clabel(cs, fmt='%d')\n\n# Set up a 2D slice to reduce the number of wind barbs plotted (every 20th)\nwind_slice = (slice(None, None, 20), slice(None, None, 20))\nax.barbs(lons[wind_slice], lats[wind_slice],\n         uwnd_er.to('kt')[wind_slice].m, vwnd_er[wind_slice].to('kt').m,\n         pivot='middle', color='black', transform=datacrs)\n\n# Plot two titles, one on right and left side\nplt.title('500-hPa NAM Geopotential Heights (m)'\n          ' and Wind Barbs (kt)', loc='left')\nplt.title('Valid Time: {}'.format(vtime), loc='right')\n\nplt.show()"
      ]
    }
  ],
  "metadata": {
    "kernelspec": {
      "display_name": "Python 3",
      "language": "python",
      "name": "python3"
    },
    "language_info": {
      "codemirror_mode": {
        "name": "ipython",
        "version": 3
      },
      "file_extension": ".py",
      "mimetype": "text/x-python",
      "name": "python",
      "nbconvert_exporter": "python",
      "pygments_lexer": "ipython3",
      "version": "3.7.3"
    }
  },
  "nbformat": 4,
  "nbformat_minor": 0
}