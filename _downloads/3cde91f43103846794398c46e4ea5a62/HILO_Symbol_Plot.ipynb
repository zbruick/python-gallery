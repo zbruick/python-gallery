{
  "cells": [
    {
      "cell_type": "code",
      "execution_count": null,
      "metadata": {
        "collapsed": false
      },
      "outputs": [],
      "source": [
        "%matplotlib inline"
      ]
    },
    {
      "cell_type": "markdown",
      "metadata": {},
      "source": [
        "\n# MSLP and 1000-500 hPa Thickness with High and Low Symbols\n\n\nPlot MSLP, calculate and plot 1000-500 hPa thickness, and plot H and L markers.\nBeyond just plotting a few variables, in the example we use functionality\nfrom the scipy module to find local maximum and minimimum values within the\nMSLP field in order to plot symbols at those locations.\n"
      ]
    },
    {
      "cell_type": "markdown",
      "metadata": {},
      "source": [
        "Imports\n\n"
      ]
    },
    {
      "cell_type": "code",
      "execution_count": null,
      "metadata": {
        "collapsed": false
      },
      "outputs": [],
      "source": [
        "from datetime import datetime\n\nimport cartopy.crs as ccrs\nimport cartopy.feature as cfeature\nimport matplotlib.pyplot as plt\nfrom metpy.units import units\nfrom netCDF4 import num2date\nimport numpy as np\nfrom scipy.ndimage import gaussian_filter\nfrom siphon.ncss import NCSS"
      ]
    },
    {
      "cell_type": "markdown",
      "metadata": {},
      "source": [
        "Function for finding and plotting max/min points\n\n"
      ]
    },
    {
      "cell_type": "code",
      "execution_count": null,
      "metadata": {
        "collapsed": false
      },
      "outputs": [],
      "source": [
        "def plot_maxmin_points(lon, lat, data, extrema, nsize, symbol, color='k',\n                       plotValue=True, transform=None):\n    \"\"\"\n    This function will find and plot relative maximum and minimum for a 2D grid. The function\n    can be used to plot an H for maximum values (e.g., High pressure) and an L for minimum\n    values (e.g., low pressue). It is best to used filetered data to obtain  a synoptic scale\n    max/min value. The symbol text can be set to a string value and optionally the color of the\n    symbol and any plotted value can be set with the parameter color\n    lon = plotting longitude values (2D)\n    lat = plotting latitude values (2D)\n    data = 2D data that you wish to plot the max/min symbol placement\n    extrema = Either a value of max for Maximum Values or min for Minimum Values\n    nsize = Size of the grid box to filter the max and min values to plot a reasonable number\n    symbol = String to be placed at location of max/min value\n    color = String matplotlib colorname to plot the symbol (and numerica value, if plotted)\n    plot_value = Boolean (True/False) of whether to plot the numeric value of max/min point\n    The max/min symbol will be plotted on the current axes within the bounding frame\n    (e.g., clip_on=True)\n    \"\"\"\n    from scipy.ndimage.filters import maximum_filter, minimum_filter\n\n    if (extrema == 'max'):\n        data_ext = maximum_filter(data, nsize, mode='nearest')\n    elif (extrema == 'min'):\n        data_ext = minimum_filter(data, nsize, mode='nearest')\n    else:\n        raise ValueError('Value for hilo must be either max or min')\n\n    mxy, mxx = np.where(data_ext == data)\n\n    for i in range(len(mxy)):\n        ax.text(lon[mxy[i], mxx[i]], lat[mxy[i], mxx[i]], symbol, color=color, size=24,\n                clip_on=True, horizontalalignment='center', verticalalignment='center',\n                transform=transform)\n        ax.text(lon[mxy[i], mxx[i]], lat[mxy[i], mxx[i]],\n                '\\n' + str(np.int(data[mxy[i], mxx[i]])),\n                color=color, size=12, clip_on=True, fontweight='bold',\n                horizontalalignment='center', verticalalignment='top', transform=transform)"
      ]
    },
    {
      "cell_type": "markdown",
      "metadata": {},
      "source": [
        "Get NARR data\n\n"
      ]
    },
    {
      "cell_type": "code",
      "execution_count": null,
      "metadata": {
        "collapsed": false
      },
      "outputs": [],
      "source": [
        "dattim = datetime(1999, 1, 3, 0)\n\nncss = NCSS('https://www.ncei.noaa.gov/thredds/ncss/grid/narr-a-files/{0:%Y%m}/{0:%Y%m%d}/'\n            'narr-a_221_{0:%Y%m%d}_{0:%H}00_000.grb'.format(dattim))\nquery = ncss.query()\nquery.all_times().variables('Pressure_reduced_to_MSL_msl',\n                            'Geopotential_height_isobaric').add_lonlat().accept('netcdf')\ndata = ncss.get_data(query)"
      ]
    },
    {
      "cell_type": "markdown",
      "metadata": {},
      "source": [
        "Extract data into variables\n\n"
      ]
    },
    {
      "cell_type": "code",
      "execution_count": null,
      "metadata": {
        "collapsed": false
      },
      "outputs": [],
      "source": [
        "# Grab pressure levels\nplev = list(data.variables['isobaric1'][:])\n\n# Grab lat/lons and make all lons 0-360\nlats = data.variables['lat'][:]\nlons = data.variables['lon'][:]\nlons[lons < 0] = 360 + lons[lons < 0]\n\n# Grab valid time and get into datetime format\ntime = data['time2']\nvtime = num2date(time[:], units=time.units)\n\n# Grab MSLP and smooth, use MetPy Units module for conversion\nEMSL = data.variables['Pressure_reduced_to_MSL_msl'][:] * units.Pa\nEMSL.ito('hPa')\nmslp = gaussian_filter(EMSL[0], sigma=3.0)\n\n# Grab pressure level data\nhght_1000 = data.variables['Geopotential_height_isobaric'][0, plev.index(1000)]\nhght_500 = data.variables['Geopotential_height_isobaric'][0, plev.index(500)]\n\n# Calculate and smooth 1000-500 hPa thickness\nthickness_1000_500 = gaussian_filter(hght_500 - hght_1000, sigma=3.0)"
      ]
    },
    {
      "cell_type": "markdown",
      "metadata": {},
      "source": [
        "Set map and data projections for use in mapping\n\n"
      ]
    },
    {
      "cell_type": "code",
      "execution_count": null,
      "metadata": {
        "collapsed": false
      },
      "outputs": [],
      "source": [
        "# Set projection of map display\nmapproj = ccrs.LambertConformal(central_latitude=45., central_longitude=-100.)\n\n# Set projection of data\ndataproj = ccrs.PlateCarree()\n\n# Grab data for plotting state boundaries\nstates_provinces = cfeature.NaturalEarthFeature(\n        category='cultural',\n        name='admin_1_states_provinces_lakes',\n        scale='50m',\n        facecolor='none')"
      ]
    },
    {
      "cell_type": "markdown",
      "metadata": {},
      "source": [
        "Create figure and plot data\n\n"
      ]
    },
    {
      "cell_type": "code",
      "execution_count": null,
      "metadata": {
        "collapsed": false
      },
      "outputs": [],
      "source": [
        "fig = plt.figure(1, figsize=(17., 11.))\nax = plt.subplot(111, projection=mapproj)\n\n# Set extent and plot map lines\nax.set_extent([-145., -70, 20., 60.], ccrs.PlateCarree())\nax.coastlines('50m', edgecolor='black', linewidth=0.75)\nax.add_feature(states_provinces, edgecolor='black', linewidth=0.5)\n\n# Plot thickness with multiple colors\nclevs = (np.arange(0, 5400, 60),\n         np.array([5400]),\n         np.arange(5460, 7000, 60))\ncolors = ('tab:blue', 'b', 'tab:red')\nkw_clabels = {'fontsize': 11, 'inline': True, 'inline_spacing': 5, 'fmt': '%i',\n              'rightside_up': True, 'use_clabeltext': True}\nfor clevthick, color in zip(clevs, colors):\n    cs = ax.contour(lons, lats, thickness_1000_500, levels=clevthick, colors=color,\n                    linewidths=1.0, linestyles='dashed', transform=dataproj)\n    plt.clabel(cs, **kw_clabels)\n\n# Plot MSLP\nclevmslp = np.arange(800., 1120., 4)\ncs2 = ax.contour(lons, lats, mslp, clevmslp, colors='k', linewidths=1.25,\n                 linestyles='solid', transform=dataproj)\nplt.clabel(cs2, **kw_clabels)\n\n# Use definition to plot H/L symbols\nplot_maxmin_points(lons, lats, mslp, 'max', 50, symbol='H', color='b',  transform=dataproj)\nplot_maxmin_points(lons, lats, mslp, 'min', 25, symbol='L', color='r', transform=dataproj)\n\n# Put on some titles\nplt.title('MSLP (hPa) with Highs and Lows, 1000-500 hPa Thickness (m)', loc='left')\nplt.title('VALID: {}'.format(vtime[0]), loc='right')\n\nplt.show()"
      ]
    }
  ],
  "metadata": {
    "kernelspec": {
      "display_name": "Python 3",
      "language": "python",
      "name": "python3"
    },
    "language_info": {
      "codemirror_mode": {
        "name": "ipython",
        "version": 3
      },
      "file_extension": ".py",
      "mimetype": "text/x-python",
      "name": "python",
      "nbconvert_exporter": "python",
      "pygments_lexer": "ipython3",
      "version": "3.7.3"
    }
  },
  "nbformat": 4,
  "nbformat_minor": 0
}