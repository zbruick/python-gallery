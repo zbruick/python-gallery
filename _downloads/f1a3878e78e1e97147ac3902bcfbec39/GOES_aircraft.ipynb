{
  "cells": [
    {
      "cell_type": "code",
      "execution_count": null,
      "metadata": {
        "collapsed": false
      },
      "outputs": [],
      "source": [
        "%matplotlib inline"
      ]
    },
    {
      "cell_type": "markdown",
      "metadata": {},
      "source": [
        "\n# GOES Aircraft Example\n\n\nThis example plots the most recent GOES-16 data with an overlay of the current\nposition of the NCAR C130 research aircraft. It also demonstrates projecting\nvectors into map coordinates and matplotlib marker manipulation.\n"
      ]
    },
    {
      "cell_type": "code",
      "execution_count": null,
      "metadata": {
        "collapsed": false
      },
      "outputs": [],
      "source": [
        "from datetime import datetime\nimport json\nimport urllib.request\n\nimport cartopy.crs as ccrs\nimport cartopy.feature as cfeature\nfrom matplotlib import patheffects\nimport matplotlib.pyplot as plt\nimport metpy  # noqa: F401\nimport metpy.calc as mpcalc\nfrom metpy.plots.ctables import registry\nfrom metpy.units import units\nimport numpy as np\nfrom siphon.catalog import TDSCatalog\nimport xarray as xr\nfrom xarray.backends import NetCDF4DataStore\n\n\ndef get_plane_data():\n    \"\"\"Get JSON data from NCAR aircraft.\"\"\"\n    endpoint_url = 'https://www.eol.ucar.edu/flight_data/C130/position.json'\n    with urllib.request.urlopen(endpoint_url) as f:\n        jstring = f.read()\n    payload = json.loads(jstring.decode('utf-8'))\n    data = {'latitude': float(payload['lat']),\n            'longitude': float(payload['lon']),\n            'altitude': float(payload['alt']),\n            'heading': float(payload['head']),\n            'time': payload['timestamp']}\n    return data\n\n\ndef get_goes_image(date=datetime.utcnow(), channel=8, region='CONUS'):\n    \"\"\"Return dataset of GOES-16 data.\"\"\"\n    cat = TDSCatalog('http://thredds-test.unidata.ucar.edu/thredds/'\n                     'catalog/satellite/goes16/GOES16/'\n                     '{}/Channel{:02d}/{:%Y%m%d}/'\n                     'catalog.xml'.format(region, channel, date))\n\n    ds = cat.datasets[-1]  # Get most recent dataset\n    ds = ds.remote_access(service='OPENDAP')\n    ds = NetCDF4DataStore(ds)\n    ds = xr.open_dataset(ds)\n    return ds\n\n\nds = get_goes_image()\ndata = get_plane_data()\n\n# Parse out the projection data from the satellite file\ndat = ds.metpy.parse_cf('Sectorized_CMI')\nproj = dat.metpy.cartopy_crs\n\n# Pull out what we need from the GOES netCDF file\nx = dat['x']\ny = dat['y']\n\n# Make the plot\nfig = plt.figure(figsize=(1.375 * 40, 40))\nax = fig.add_subplot(1, 1, 1, projection=proj)\nplt.subplots_adjust(left=0, bottom=0, right=1, top=1, wspace=0, hspace=0)\n\nwv_norm, wv_cmap = registry.get_with_range('WVCIMSS_r', 195, 265)\n\nim = ax.imshow(dat, extent=(x.min(), x.max(), y.min(), y.max()),\n               origin='upper')\n\nim.set_cmap(wv_cmap)\nim.set_norm(wv_norm)\n\nax.add_feature(cfeature.BORDERS, linewidth=8, edgecolor='black')\nax.add_feature(cfeature.STATES.with_scale('50m'), linestyle='-',\n               edgecolor='black', linewidth=4)\n\ntimestamp = datetime.strptime(ds.start_date_time, '%Y%j%H%M%S')\n\ntext_time = ax.text(0.01, 0.01, timestamp.strftime('%d %B %Y %H%MZ'),\n                    horizontalalignment='left', transform=ax.transAxes,\n                    color='white', fontsize=100, weight='bold')\n\noutline_effect = [patheffects.withStroke(linewidth=15, foreground='black')]\ntext_time.set_path_effects(outline_effect)\n\nax.set_extent([-124.5, -105, 38.5, 50])\n\n# Transform plane heading to a map direction and plot a rotated marker\nu, v = mpcalc.wind_components(1 * units('m/s'),\n                              data['heading'] * units('degrees'))\nu, v = proj.transform_vectors(ccrs.PlateCarree(), np.array([data['longitude']]),\n                              np.array([data['latitude']]), np.array([u.m]),\n                              np.array([v.m]))\nmap_direction = -mpcalc.wind_direction(u, v).to('degrees')\nmap_direction = map_direction[0].m\n\nax.scatter(data['longitude'], data['latitude'],\n           transform=ccrs.PlateCarree(),\n           marker=(3, 0, map_direction),\n           color='red',\n           s=4000)\n\nax.text(data['longitude'], data['latitude'] - 0.3,\n        'Altitude: {}\\nHeading: {}\\nTime:{}'.format(data['altitude'],\n                                                    data['heading'],\n                                                    data['time']),\n        transform=ccrs.PlateCarree(), fontsize=40,\n        ha='center', va='top',\n        bbox={'facecolor': 'white', 'edgecolor': 'black',\n              'boxstyle': 'round,pad=0.5', 'alpha': 0.6})\n\nax.gridlines(linestyle=':', color='black', linewidth=2)\n\nplt.savefig('sat_image.png')"
      ]
    }
  ],
  "metadata": {
    "kernelspec": {
      "display_name": "Python 3",
      "language": "python",
      "name": "python3"
    },
    "language_info": {
      "codemirror_mode": {
        "name": "ipython",
        "version": 3
      },
      "file_extension": ".py",
      "mimetype": "text/x-python",
      "name": "python",
      "nbconvert_exporter": "python",
      "pygments_lexer": "ipython3",
      "version": "3.7.3"
    }
  },
  "nbformat": 4,
  "nbformat_minor": 0
}