{
  "cells": [
    {
      "cell_type": "code",
      "execution_count": null,
      "metadata": {
        "collapsed": false
      },
      "outputs": [],
      "source": [
        "%matplotlib inline"
      ]
    },
    {
      "cell_type": "markdown",
      "metadata": {},
      "source": [
        "\n# 850 hPa Temperature Advection\n\n\nPlot an 850 hPa map with calculating advection using MetPy.\n\nBeyond just plotting 850-hPa level data, this uses calculations from `metpy.calc` to find\nthe temperature advection. Currently, this needs an extra helper function to calculate\nthe distance between lat/lon grid points.\n"
      ]
    },
    {
      "cell_type": "markdown",
      "metadata": {},
      "source": [
        "Imports\n\n"
      ]
    },
    {
      "cell_type": "code",
      "execution_count": null,
      "metadata": {
        "collapsed": false
      },
      "outputs": [],
      "source": [
        "from datetime import datetime\n\nimport cartopy.crs as ccrs\nimport cartopy.feature as cfeature\nimport matplotlib.gridspec as gridspec\nimport matplotlib.pyplot as plt\nimport metpy.calc as mpcalc\nfrom metpy.units import units\nfrom netCDF4 import num2date\nimport numpy as np\nimport scipy.ndimage as ndimage\nfrom siphon.ncss import NCSS"
      ]
    },
    {
      "cell_type": "markdown",
      "metadata": {},
      "source": [
        "Helper functions\n\n"
      ]
    },
    {
      "cell_type": "code",
      "execution_count": null,
      "metadata": {
        "collapsed": false
      },
      "outputs": [],
      "source": [
        "# Helper function for finding proper time variable\ndef find_time_var(var, time_basename='time'):\n    for coord_name in var.coordinates.split():\n        if coord_name.startswith(time_basename):\n            return coord_name\n    raise ValueError('No time variable found for ' + var.name)"
      ]
    },
    {
      "cell_type": "markdown",
      "metadata": {},
      "source": [
        "Create NCSS object to access the NetcdfSubset\n---------------------------------------------\nData from NCEI GFS 0.5 deg Analysis Archive\n\n"
      ]
    },
    {
      "cell_type": "code",
      "execution_count": null,
      "metadata": {
        "collapsed": false
      },
      "outputs": [],
      "source": [
        "base_url = 'https://www.ncei.noaa.gov/thredds/ncss/grid/gfs-g4-anl-files/'\ndt = datetime(2017, 4, 5, 12)\nncss = NCSS('{}{dt:%Y%m}/{dt:%Y%m%d}/gfsanl_4_{dt:%Y%m%d}_'\n            '{dt:%H}00_000.grb2'.format(base_url, dt=dt))\n\n# Create lat/lon box for location you want to get data for\nquery = ncss.query().time(dt)\nquery.lonlat_box(north=65, south=15, east=310, west=220)\nquery.accept('netcdf')\n\n# Request data for vorticity\nquery.variables('Geopotential_height_isobaric', 'Temperature_isobaric',\n                'u-component_of_wind_isobaric', 'v-component_of_wind_isobaric')\ndata = ncss.get_data(query)\n\n# Pull out variables you want to use\nhght_var = data.variables['Geopotential_height_isobaric']\ntemp_var = data.variables['Temperature_isobaric']\nu_wind_var = data.variables['u-component_of_wind_isobaric']\nv_wind_var = data.variables['v-component_of_wind_isobaric']\ntime_var = data.variables[find_time_var(temp_var)]\nlat_var = data.variables['lat']\nlon_var = data.variables['lon']\n\n# Get actual data values and remove any size 1 dimensions\nlat = lat_var[:].squeeze()\nlon = lon_var[:].squeeze()\nhght = hght_var[:].squeeze()\ntemp = temp_var[:].squeeze() * units.K\nu_wind = units('m/s') * u_wind_var[:].squeeze()\nv_wind = units('m/s') * v_wind_var[:].squeeze()\n\n# Convert number of hours since the reference time into an actual date\ntime = num2date(time_var[:].squeeze(), time_var.units)\n\nlev_850 = np.where(data.variables['isobaric'][:] == 850*100)[0][0]\nhght_850 = hght[lev_850]\ntemp_850 = temp[lev_850]\nu_wind_850 = u_wind[lev_850]\nv_wind_850 = v_wind[lev_850]\n\n# Combine 1D latitude and longitudes into a 2D grid of locations\nlon_2d, lat_2d = np.meshgrid(lon, lat)\n# Gridshift for barbs\nlon_2d[lon_2d > 180] = lon_2d[lon_2d > 180] - 360"
      ]
    },
    {
      "cell_type": "markdown",
      "metadata": {},
      "source": [
        "Begin data calculations\n-----------------------\n\n"
      ]
    },
    {
      "cell_type": "code",
      "execution_count": null,
      "metadata": {
        "collapsed": false
      },
      "outputs": [],
      "source": [
        "# Use helper function defined above to calculate distance\n# between lat/lon grid points\ndx, dy = mpcalc.lat_lon_grid_deltas(lon_var, lat_var)\n\n# Because of the way the data are returned we need a negative spacing. This\n# will be easier in the next version of MetPy.\ndy *= -1\n\n# Calculate temperature advection using metpy function\nadv = mpcalc.advection(temp_850 * units.kelvin, [u_wind_850, v_wind_850],\n                       (dx, dy), dim_order='yx') * units('K/sec')\n\n# Smooth heights and advection a little\n# Be sure to only put in a 2D lat/lon or Y/X array for smoothing\nZ_850 = ndimage.gaussian_filter(hght_850, sigma=3, order=0) * units.meter\nadv = ndimage.gaussian_filter(adv, sigma=3, order=0) * units('K/sec')"
      ]
    },
    {
      "cell_type": "markdown",
      "metadata": {},
      "source": [
        "Begin map creation\n------------------\n\n"
      ]
    },
    {
      "cell_type": "code",
      "execution_count": null,
      "metadata": {
        "collapsed": false
      },
      "outputs": [],
      "source": [
        "# Set Projection of Data\ndatacrs = ccrs.PlateCarree()\n\n# Set Projection of Plot\nplotcrs = ccrs.LambertConformal(central_latitude=[30, 60], central_longitude=-100)\n\n# Create new figure\nfig = plt.figure(figsize=(11, 8.5))\ngs = gridspec.GridSpec(2, 1, height_ratios=[1, .02], bottom=.07, top=.99,\n                       hspace=0.01, wspace=0.01)\n\n# Add the map and set the extent\nax = plt.subplot(gs[0], projection=plotcrs)\nplt.title('850mb Temperature Advection for {0:%d %B %Y %H:%MZ}'.format(time), fontsize=16)\nax.set_extent([235., 290., 20., 55.])\n\n# Add state/country boundaries to plot\nax.add_feature(cfeature.STATES)\nax.add_feature(cfeature.BORDERS)\n\n# Plot Height Contours\nclev850 = np.arange(900, 3000, 30)\ncs = ax.contour(lon_2d, lat_2d, Z_850, clev850, colors='black', linewidths=1.5,\n                linestyles='solid', transform=datacrs)\nplt.clabel(cs, fontsize=10, inline=1, inline_spacing=10, fmt='%i',\n           rightside_up=True, use_clabeltext=True)\n\n# Plot Temperature Contours\nclevtemp850 = np.arange(-20, 20, 2)\ncs2 = ax.contour(lon_2d, lat_2d, temp_850.to(units('degC')), clevtemp850,\n                 colors='grey', linewidths=1.25, linestyles='dashed',\n                 transform=datacrs)\nplt.clabel(cs2, fontsize=10, inline=1, inline_spacing=10, fmt='%i',\n           rightside_up=True, use_clabeltext=True)\n\n# Plot Colorfill of Temperature Advection\ncint = np.arange(-8, 9)\ncf = ax.contourf(lon_2d, lat_2d, 3*adv.to(units('delta_degC/hour')), cint[cint != 0],\n                 extend='both', cmap='bwr', transform=datacrs)\ncax = plt.subplot(gs[1])\ncb = plt.colorbar(cf, cax=cax, orientation='horizontal', extendrect=True, ticks=cint)\ncb.set_label(r'$^{o}C/3h$', size='large')\n\n# Plot Wind Barbs\nax.barbs(lon_2d, lat_2d, u_wind_850.magnitude, v_wind_850.magnitude,\n         length=6, regrid_shape=20, pivot='middle', transform=datacrs)\n\nplt.show()"
      ]
    }
  ],
  "metadata": {
    "kernelspec": {
      "display_name": "Python 3",
      "language": "python",
      "name": "python3"
    },
    "language_info": {
      "codemirror_mode": {
        "name": "ipython",
        "version": 3
      },
      "file_extension": ".py",
      "mimetype": "text/x-python",
      "name": "python",
      "nbconvert_exporter": "python",
      "pygments_lexer": "ipython3",
      "version": "3.7.3"
    }
  },
  "nbformat": 4,
  "nbformat_minor": 0
}