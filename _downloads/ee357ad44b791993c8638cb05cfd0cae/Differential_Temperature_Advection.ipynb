{
  "cells": [
    {
      "cell_type": "code",
      "execution_count": null,
      "metadata": {
        "collapsed": false
      },
      "outputs": [],
      "source": [
        "%matplotlib inline"
      ]
    },
    {
      "cell_type": "markdown",
      "metadata": {},
      "source": [
        "\nDifferential Temperature Advection with NARR Data\n=================================================\n\nBy: Kevin Goebbert\n\nThis example creates a four-panel plot to illustrate the difference\nbetween single level temperature advection and a computed differential\ntemperature advection between two layers. This example makes use of NARR\noutput.\n"
      ]
    },
    {
      "cell_type": "code",
      "execution_count": null,
      "metadata": {
        "collapsed": false
      },
      "outputs": [],
      "source": [
        "import cartopy.crs as ccrs\nimport cartopy.feature as cfeature\nimport matplotlib.gridspec as gridspec\nimport matplotlib.pyplot as plt\nimport metpy.calc as mpcalc\nfrom metpy.units import units\nimport numpy as np\nimport xarray as xr"
      ]
    },
    {
      "cell_type": "markdown",
      "metadata": {},
      "source": [
        "Data Input\n----------\n\nUse Xarray to access GFS data from THREDDS resource and uses\nmetpy accessor to parse file to make it easy to pull data using\ncommon coordinate names (e.g., vertical) and attach units.\n\n\n"
      ]
    },
    {
      "cell_type": "code",
      "execution_count": null,
      "metadata": {
        "collapsed": false
      },
      "outputs": [],
      "source": [
        "ds = xr.open_dataset('https://thredds.ucar.edu/thredds/dodsC/'\n                     'casestudies/python-gallery/NARR_19930313_1800.nc').metpy.parse_cf()\n\n# Get lat/lon data from file\nlats = ds.lat.data\nlons = ds.lon.data\n\n# Calculate variable dx, dy values for use in calculations\ndx, dy = mpcalc.lat_lon_grid_deltas(lons, lats)\n\n# Get 700-hPa data and smooth\nlevel = 700 * units.hPa\nhght_700 = mpcalc.smooth_n_point(ds['Geopotential_height_isobaric'].metpy.sel(\n    vertical=level).squeeze(), 9)\ntmpk_700 = mpcalc.smooth_n_point(ds['Temperature_isobaric'].metpy.sel(\n    vertical=level).squeeze(), 9)\nuwnd_700 = mpcalc.smooth_n_point(\n    ds['u-component_of_wind_isobaric'].metpy.sel(vertical=level).squeeze(), 9)\nvwnd_700 = mpcalc.smooth_n_point(\n    ds['v-component_of_wind_isobaric'].metpy.sel(vertical=level).squeeze(), 9)\n\n# Get 300-hPa data and\nlevel = 300 * units.hPa\nhght_300 = mpcalc.smooth_n_point(ds['Geopotential_height_isobaric'].metpy.sel(\n    vertical=level).squeeze(), 9)\ntmpk_300 = mpcalc.smooth_n_point(ds['Temperature_isobaric'].metpy.sel(\n    vertical=level).squeeze(), 9)\nuwnd_300 = mpcalc.smooth_n_point(\n    ds['u-component_of_wind_isobaric'].metpy.sel(vertical=level).squeeze(), 9)\nvwnd_300 = mpcalc.smooth_n_point(\n    ds['v-component_of_wind_isobaric'].metpy.sel(vertical=level).squeeze(), 9)\n\n# Convert Temperatures to degC\ntmpc_700 = tmpk_700.to('degC')\ntmpc_300 = tmpk_300.to('degC')\n\n# Get time in a nice datetime object format\nvtime = ds.time.values.astype('datetime64[ms]').astype('O')[0]"
      ]
    },
    {
      "cell_type": "markdown",
      "metadata": {},
      "source": [
        "Differential Temperature Advection Calculation\n----------------------------------------------\n\nUse MetPy advection funtion to calculate temperature advection at 700\nand 300 hPa, then manually compute the differential between those two\nlayers. The differential temperature advection is then valid at 500 hPa\n(due to centered differencing) and is the same level that height changes\ndue to absolute vorticity advection is commonly assessed.\n\n\n"
      ]
    },
    {
      "cell_type": "code",
      "execution_count": null,
      "metadata": {
        "collapsed": false
      },
      "outputs": [],
      "source": [
        "# Use MetPy advection function to calculate temperature advection at two levels\ntadv_700 = mpcalc.advection(tmpk_700, (uwnd_700, vwnd_700),\n                            (dx, dy), dim_order='yx').to_base_units()\ntadv_300 = mpcalc.advection(tmpk_300, (uwnd_300, vwnd_300),\n                            (dx, dy), dim_order='yx').to_base_units()\n\n# Centered finite difference to calculate differential temperature advection\ndiff_tadv = ((tadv_700 - tadv_300)/(400 * units.hPa)).to_base_units()"
      ]
    },
    {
      "cell_type": "markdown",
      "metadata": {},
      "source": [
        "Make Four Panel Plot\n--------------------\n\nA four panel plot is produced to illustrate the temperature fields at\ntwo levels (700 and 300 hPa), which are common fields to be plotted.\nThen a panel containing the evaluated temperature advection at 700 hPa\nand differential temperature advection between 700 and 300 hPa. Of\nmeteorological significance is the difference between these two\nadvection plots. For the QG Height Tendency equation, the forcing term\nis proportional to the differential temperature advection, which paints\na slightly different picture than just the 700-hPa temperature advection\nalone.\n\nTo create the four panel plot it takes a bit of code at this point. The\nfollowing code is segmented into Upper-left, Lower-left, Upper-right,\nLower-right panels using matplotlib\u2019s gridspec to help with spacing.\n\n\n"
      ]
    },
    {
      "cell_type": "code",
      "execution_count": null,
      "metadata": {
        "collapsed": false
      },
      "outputs": [],
      "source": [
        "# Set up plot crs (mapcrs) and the data crs, will need to transform all variables\nmapcrs = ccrs.LambertConformal(central_longitude=-100, central_latitude=35,\n                               standard_parallels=(30, 60))\ndatacrs = ccrs.PlateCarree()\n\n# Set some common contour interval levels\nclevs_700_tmpc = np.arange(-40, 41, 2)\nclevs_700_hght = np.arange(0, 8000, 30)\nclevs_300_hght = np.arange(0, 10000, 120)\n\n# Create slice to reduce number of wind barbs at plot time\nwind_slice = (slice(None, None, 10), slice(None, None, 10))\n\n# Start figure\nfig = plt.figure(1, figsize=(22, 15))\n\n# Use gridspec to help size elements of plot; small top plot and big bottom plot\ngs = gridspec.GridSpec(nrows=2, ncols=2, height_ratios=[1, 1], hspace=0.03, wspace=0.03)\n\n\n# Upper-left panel (700-hPa TMPC)\nax1 = plt.subplot(gs[0, 0], projection=mapcrs)\nax1.set_extent([-130, -72, 25, 49], ccrs.PlateCarree())\nax1.add_feature(cfeature.COASTLINE.with_scale('50m'))\nax1.add_feature(cfeature.STATES.with_scale('50m'))\n\ncf = ax1.contourf(lons, lats, tmpc_700, clevs_700_tmpc,\n                  cmap=plt.cm.coolwarm, transform=datacrs)\ncb = plt.colorbar(cf, orientation='horizontal', pad=0, aspect=50)\ncb.set_label(r'$^{\\circ}$C')\n\ncsf = ax1.contour(lons, lats, tmpc_700, clevs_700_tmpc, colors='grey',\n                  linestyles='dashed', transform=datacrs)\nplt.clabel(csf, fmt='%d')\n\ncs = ax1.contour(lons, lats, hght_700, clevs_700_hght, colors='black', transform=datacrs)\nplt.clabel(cs, fmt='%d')\n\nax1.barbs(lons[wind_slice], lats[wind_slice],\n          uwnd_700.to('kt')[wind_slice].m, vwnd_700[wind_slice].to('kt').m,\n          pivot='middle', color='black', transform=datacrs)\n\nplt.title('700-hPa NARR HGHT (m), TMPC, and Wind (kt)', loc='left')\nplt.title('Valid: {}'.format(vtime), loc='right')\n\n\n# Lower-left panel (300-hPa TMPC)\nax2 = plt.subplot(gs[1, 0], projection=mapcrs)\nax2.set_extent([-130, -72, 25, 49], ccrs.PlateCarree())\nax2.add_feature(cfeature.COASTLINE.with_scale('50m'))\nax2.add_feature(cfeature.STATES.with_scale('50m'))\n\ncf = ax2.contourf(lons, lats, tmpc_300, range(-60, -24, 2),\n                  cmap=plt.cm.BuPu_r, transform=datacrs)\ncb = plt.colorbar(cf, orientation='horizontal', pad=0, aspect=50)\ncb.set_label(r'$^{\\circ}$C')\n\ncsf = ax2.contour(lons, lats, tmpc_300, range(-60, 0, 2),\n                  colors='grey', linestyles='dashed', transform=datacrs)\nplt.clabel(csf, fmt='%d')\n\ncs = ax2.contour(lons, lats, hght_300, clevs_300_hght, colors='black', transform=datacrs)\nplt.clabel(cs, fmt='%d')\n\nax2.barbs(lons[wind_slice], lats[wind_slice],\n          uwnd_300.to('kt')[wind_slice].m, vwnd_300[wind_slice].to('kt').m,\n          pivot='middle', color='black', transform=datacrs)\n\nplt.title('300-hPa NARR HGHT (m), TMPC, and Wind (kt)', loc='left')\nplt.title('Valid: {}'.format(vtime), loc='right')\n\n\n# Upper-right panel (700-hPa TMPC Adv)\nax3 = plt.subplot(gs[0, 1], projection=mapcrs)\nax3.set_extent([-130, -72, 25, 49], ccrs.PlateCarree())\nax3.add_feature(cfeature.COASTLINE.with_scale('50m'))\nax3.add_feature(cfeature.STATES.with_scale('50m'))\n\ncf = ax3.contourf(lons, lats, tadv_700*3600, range(-8, 9, 1),\n                  cmap=plt.cm.coolwarm, transform=datacrs)\ncb = plt.colorbar(cf, orientation='horizontal', pad=0, aspect=50)\ncb.set_label(r'TMPC ADV ($^{\\circ}$C h$^{-1}$)')\n\ncsf = ax3.contour(lons, lats, tmpc_700, clevs_700_tmpc, colors='grey',\n                  linestyles='dashed', transform=datacrs)\nplt.clabel(csf, fmt='%d')\n\ncs = ax3.contour(lons, lats, hght_700, clevs_700_hght, colors='black', transform=datacrs)\nplt.clabel(cs, fmt='%d')\n\nax3.barbs(lons[wind_slice], lats[wind_slice],\n          uwnd_700.to('kt')[wind_slice].m, vwnd_700[wind_slice].to('kt').m,\n          pivot='middle', color='black', transform=datacrs)\n\nplt.title('700-hPa NARR HGHT (m), TMPC, and Wind (kt)', loc='left')\nplt.title('Valid: {}'.format(vtime), loc='right')\n\n\n# Lower-right panel (diff TMPC)\nax4 = plt.subplot(gs[1, 1], projection=mapcrs)\nax4.set_extent([-130, -72, 25, 49], ccrs.PlateCarree())\nax4.add_feature(cfeature.COASTLINE.with_scale('50m'))\nax4.add_feature(cfeature.STATES.with_scale('50m'))\n\ncf = ax4.contourf(lons, lats, diff_tadv*1e9, clevs_700_tmpc,\n                  cmap=plt.cm.coolwarm, extend='both', transform=datacrs)\ncb = plt.colorbar(cf, orientation='horizontal', pad=0, aspect=50, extendrect=True)\ncb.set_label(r'dTMPC ($10^9$ $^{\\circ}$C s$^{-1}$ Pa$^{-1}$)')\n\ncsf = ax4.contour(lons, lats, tmpc_700, clevs_700_tmpc, colors='grey',\n                  linestyles='dashed', transform=datacrs)\nplt.clabel(csf, fmt='%d')\n\ncs = ax4.contour(lons, lats, hght_700, clevs_700_hght, colors='black', transform=datacrs)\nplt.clabel(cs, fmt='%d')\n\nax4.barbs(lons[wind_slice], lats[wind_slice],\n          uwnd_700.to('kt')[wind_slice].m, vwnd_700[wind_slice].to('kt').m,\n          pivot='middle', color='black', transform=datacrs)\n\nplt.title('700-hPa NARR HGHT (m), TMPC, and Wind (kt)', loc='left')\nplt.title('Valid: {}'.format(vtime), loc='right')\n\nplt.show()"
      ]
    }
  ],
  "metadata": {
    "kernelspec": {
      "display_name": "Python 3",
      "language": "python",
      "name": "python3"
    },
    "language_info": {
      "codemirror_mode": {
        "name": "ipython",
        "version": 3
      },
      "file_extension": ".py",
      "mimetype": "text/x-python",
      "name": "python",
      "nbconvert_exporter": "python",
      "pygments_lexer": "ipython3",
      "version": "3.7.3"
    }
  },
  "nbformat": 4,
  "nbformat_minor": 0
}