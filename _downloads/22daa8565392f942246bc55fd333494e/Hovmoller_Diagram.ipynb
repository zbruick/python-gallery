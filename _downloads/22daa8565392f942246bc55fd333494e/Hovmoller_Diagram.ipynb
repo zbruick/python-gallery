{
  "cells": [
    {
      "cell_type": "code",
      "execution_count": null,
      "metadata": {
        "collapsed": false
      },
      "outputs": [],
      "source": [
        "%matplotlib inline"
      ]
    },
    {
      "cell_type": "markdown",
      "metadata": {},
      "source": [
        "\nHovmoller Diagram Example\n=========================\n\nBy: Kevin Goebbert\n\nNorthern Hemispheric v-wind component over the mid-latitudes in a\nHovmoller diagram. This diagram can be used to illustrate upper-level\nwave and energy propogation (e.g., downstream baroclinic development)\n"
      ]
    },
    {
      "cell_type": "code",
      "execution_count": null,
      "metadata": {
        "collapsed": false
      },
      "outputs": [],
      "source": [
        "import cartopy.crs as ccrs\nimport cartopy.feature as cfeature\nimport matplotlib.gridspec as gridspec\nimport matplotlib.pyplot as plt\nimport metpy.calc as mpcalc\nimport numpy as np\nimport xarray as xr"
      ]
    },
    {
      "cell_type": "markdown",
      "metadata": {},
      "source": [
        "Get the data\n------------\n\nUsing NCEP/NCAR reanalysis data via xarray remote access using the\nOPeNDAP protocol.\n\nSet the time range, parameter, and level to desired values\n\n\n"
      ]
    },
    {
      "cell_type": "code",
      "execution_count": null,
      "metadata": {
        "collapsed": false
      },
      "outputs": [],
      "source": [
        "# Create time slice from dates\nstart_time = '2011-01-20'\nend_time = '2011-02-06'\n\n# Select NCEP/NCAR parameter and level\nparam = 'vwnd'\nlevel = 250\n\n# Remote get dataset using OPeNDAP method via xarray\nds = xr.open_dataset('http://www.esrl.noaa.gov/psd/thredds/dodsC/Datasets/'\n                     'ncep.reanalysis/pressure/{}.{}.nc'.format(param, start_time[:4]))\n\n# Create slice variables subset domain\ntime_slice = slice(start_time, end_time)\nlat_slice = slice(60, 40)\nlon_slice = slice(0, 360)\n\n# Get data, selecting time, level, lat/lon slice\ndata = ds[param].sel(time=time_slice,\n                     level=level,\n                     lat=lat_slice,\n                     lon=lon_slice)\n\n# Compute weights and take weighted average over latitude dimension\nweights = np.cos(np.deg2rad(data.lat.values))\navg_data = (data * weights[None, :, None]).sum(dim='lat') / np.sum(weights)\n\n# Get times and make array of datetime objects\nvtimes = data.time.values.astype('datetime64[ms]').astype('O')\n\n# Specify longitude values for chosen domain\nlons = data.lon.values"
      ]
    },
    {
      "cell_type": "markdown",
      "metadata": {},
      "source": [
        "Make the Hovmoller Plot\n-----------------------\n\nPretty simple to use common matplotlib/cartopy to create the diagram.\nCartopy is used to create a geographic reference map to highlight the\narea being averaged as well as the visual reference for longitude.\n\n\n"
      ]
    },
    {
      "cell_type": "code",
      "execution_count": null,
      "metadata": {
        "collapsed": false
      },
      "outputs": [],
      "source": [
        "# Start figure\nfig = plt.figure(figsize=(10, 13))\n\n# Use gridspec to help size elements of plot; small top plot and big bottom plot\ngs = gridspec.GridSpec(nrows=2, ncols=1, height_ratios=[1, 6], hspace=0.03)\n\n# Tick labels\nx_tick_labels = [u'0\\N{DEGREE SIGN}E', u'90\\N{DEGREE SIGN}E',\n                 u'180\\N{DEGREE SIGN}E', u'90\\N{DEGREE SIGN}W',\n                 u'0\\N{DEGREE SIGN}E']\n\n# Top plot for geographic reference (makes small map)\nax1 = fig.add_subplot(gs[0, 0], projection=ccrs.PlateCarree(central_longitude=180))\nax1.set_extent([0, 357.5, 35, 65], ccrs.PlateCarree(central_longitude=180))\nax1.set_yticks([40, 60])\nax1.set_yticklabels([u'40\\N{DEGREE SIGN}N', u'60\\N{DEGREE SIGN}N'])\nax1.set_xticks([-180, -90, 0, 90, 180])\nax1.set_xticklabels(x_tick_labels)\nax1.grid(linestyle='dotted', linewidth=2)\n\n# Add geopolitical boundaries for map reference\nax1.add_feature(cfeature.COASTLINE.with_scale('50m'))\nax1.add_feature(cfeature.LAKES.with_scale('50m'), color='black', linewidths=0.5)\n\n# Set some titles\nplt.title('Hovmoller Diagram', loc='left')\nplt.title('NCEP/NCAR Reanalysis', loc='right')\n\n# Bottom plot for Hovmoller diagram\nax2 = fig.add_subplot(gs[1, 0])\nax2.invert_yaxis()  # Reverse the time order to do oldest first\n\n# Plot of chosen variable averaged over latitude and slightly smoothed\nclevs = np.arange(-50, 51, 5)\ncf = ax2.contourf(lons, vtimes, mpcalc.smooth_n_point(\n    avg_data, 9, 2), clevs, cmap=plt.cm.bwr, extend='both')\ncs = ax2.contour(lons, vtimes, mpcalc.smooth_n_point(\n    avg_data, 9, 2), clevs, colors='k', linewidths=1)\ncbar = plt.colorbar(cf, orientation='horizontal', pad=0.04, aspect=50, extendrect=True)\ncbar.set_label('m $s^{-1}$')\n\n# Make some ticks and tick labels\nax2.set_xticks([0, 90, 180, 270, 357.5])\nax2.set_xticklabels(x_tick_labels)\nax2.set_yticks(vtimes[4::8])\nax2.set_yticklabels(vtimes[4::8])\n\n# Set some titles\nplt.title('250-hPa V-wind', loc='left', fontsize=10)\nplt.title('Time Range: {0:%Y%m%d %HZ} - {1:%Y%m%d %HZ}'.format(vtimes[0], vtimes[-1]),\n          loc='right', fontsize=10)\n\nplt.show()"
      ]
    }
  ],
  "metadata": {
    "kernelspec": {
      "display_name": "Python 3",
      "language": "python",
      "name": "python3"
    },
    "language_info": {
      "codemirror_mode": {
        "name": "ipython",
        "version": 3
      },
      "file_extension": ".py",
      "mimetype": "text/x-python",
      "name": "python",
      "nbconvert_exporter": "python",
      "pygments_lexer": "ipython3",
      "version": "3.7.3"
    }
  },
  "nbformat": 4,
  "nbformat_minor": 0
}