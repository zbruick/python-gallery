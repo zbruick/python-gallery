{
  "cells": [
    {
      "cell_type": "code",
      "execution_count": null,
      "metadata": {
        "collapsed": false
      },
      "outputs": [],
      "source": [
        "%matplotlib inline"
      ]
    },
    {
      "cell_type": "markdown",
      "metadata": {},
      "source": [
        "\nSkew-T Analysis\n===============\n\nClassic skew-T/log-p plot using data from University of Wyoming.\n\nThis example uses example data from the University of Wyoming sounding\narchive for 12 UTC 31 October 2016 for Minneapolis, MN (MPX) and uses\nMetPy to plot the classic skew-T with Temperature, Dewpoint, and wind\nbarbs.\n"
      ]
    },
    {
      "cell_type": "code",
      "execution_count": null,
      "metadata": {
        "collapsed": false
      },
      "outputs": [],
      "source": [
        "from datetime import datetime\n\nimport matplotlib.pyplot as plt\nfrom metpy.plots import SkewT\nfrom metpy.units import pandas_dataframe_to_unit_arrays, units\nimport numpy as np\nfrom siphon.simplewebservice.wyoming import WyomingUpperAir"
      ]
    },
    {
      "cell_type": "markdown",
      "metadata": {},
      "source": [
        "Set time using a datetime object and station as variables\n\n\n"
      ]
    },
    {
      "cell_type": "code",
      "execution_count": null,
      "metadata": {
        "collapsed": false
      },
      "outputs": [],
      "source": [
        "dt = datetime(2016, 10, 26, 12)\nstation = 'MPX'"
      ]
    },
    {
      "cell_type": "markdown",
      "metadata": {},
      "source": [
        "Grab Remote Data\n----------------\n\nThis requires an internet connection to access the sounding data from a\nremote server at the University of Wyoming.\n\n\n"
      ]
    },
    {
      "cell_type": "code",
      "execution_count": null,
      "metadata": {
        "collapsed": false
      },
      "outputs": [],
      "source": [
        "# Read remote sounding data based on time (dt) and station\ndf = WyomingUpperAir.request_data(dt, station)\n\n# Create dictionary of united arrays\ndata = pandas_dataframe_to_unit_arrays(df)"
      ]
    },
    {
      "cell_type": "markdown",
      "metadata": {},
      "source": [
        "Isolate variables and attach units\n\n\n"
      ]
    },
    {
      "cell_type": "code",
      "execution_count": null,
      "metadata": {
        "collapsed": false
      },
      "outputs": [],
      "source": [
        "# Isolate united arrays from dictionary to individual variables\np = data['pressure']\nT = data['temperature']\nTd = data['dewpoint']\nu = data['u_wind']\nv = data['v_wind']"
      ]
    },
    {
      "cell_type": "markdown",
      "metadata": {},
      "source": [
        "Make Skew-T Plot\n----------------\n\nThe code below makes a basic skew-T plot using the MetPy plot module\nthat contains a SkewT class.\n\n\n"
      ]
    },
    {
      "cell_type": "code",
      "execution_count": null,
      "metadata": {
        "collapsed": false
      },
      "outputs": [],
      "source": [
        "# Change default to be better for skew-T\nfig = plt.figure(figsize=(9, 11))\n\n# Initiate the skew-T plot type from MetPy class loaded earlier\nskew = SkewT(fig, rotation=45)\n\n# Plot the data using normal plotting functions, in this case using\n# log scaling in Y, as dictated by the typical meteorological plot\nskew.plot(p, T, 'r')\nskew.plot(p, Td, 'g')\nskew.plot_barbs(p[::3], u[::3], v[::3], y_clip_radius=0.03)\n\n# Set some appropriate axes limits for x and y\nskew.ax.set_xlim(-30, 40)\nskew.ax.set_ylim(1020, 100)\n\n# Add the relevant special lines to plot throughout the figure\nskew.plot_dry_adiabats(t0=np.arange(233, 533, 10) * units.K,\n                       alpha=0.25, color='orangered')\nskew.plot_moist_adiabats(t0=np.arange(233, 400, 5) * units.K,\n                         alpha=0.25, color='tab:green')\nskew.plot_mixing_lines(p=np.arange(1000, 99, -20) * units.hPa,\n                       linestyle='dotted', color='tab:blue')\n\n# Add some descriptive titles\nplt.title('{} Sounding'.format(station), loc='left')\nplt.title('Valid Time: {}'.format(dt), loc='right')\n\nplt.show()"
      ]
    }
  ],
  "metadata": {
    "kernelspec": {
      "display_name": "Python 3",
      "language": "python",
      "name": "python3"
    },
    "language_info": {
      "codemirror_mode": {
        "name": "ipython",
        "version": 3
      },
      "file_extension": ".py",
      "mimetype": "text/x-python",
      "name": "python",
      "nbconvert_exporter": "python",
      "pygments_lexer": "ipython3",
      "version": "3.7.3"
    }
  },
  "nbformat": 4,
  "nbformat_minor": 0
}