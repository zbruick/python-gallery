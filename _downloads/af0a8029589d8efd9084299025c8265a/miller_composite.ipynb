{
  "cells": [
    {
      "cell_type": "code",
      "execution_count": null,
      "metadata": {
        "collapsed": false
      },
      "outputs": [],
      "source": [
        "%matplotlib inline"
      ]
    },
    {
      "cell_type": "markdown",
      "metadata": {},
      "source": [
        "\n# Miller Composite Chart\n\nCreate a Miller Composite chart based on Miller 1972 in Python with MetPy and\nMatplotlib.\n"
      ]
    },
    {
      "cell_type": "code",
      "execution_count": null,
      "metadata": {
        "collapsed": false
      },
      "outputs": [],
      "source": [
        "from datetime import datetime\n\nimport cartopy.crs as ccrs\nimport cartopy.feature as cfeature\nimport matplotlib.lines as lines\nimport matplotlib.patches as mpatches\nimport matplotlib.pyplot as plt\nimport metpy.calc as mpcalc\nfrom metpy.units import units\nfrom netCDF4 import num2date\nimport numpy as np\nimport numpy.ma as ma\nfrom scipy.ndimage import gaussian_filter\nfrom siphon.ncss import NCSS"
      ]
    },
    {
      "cell_type": "markdown",
      "metadata": {},
      "source": [
        "**Get the data**\n\nThis example will use data from the North American Mesoscale Model Analysis\n(https://nomads.ncdc.gov/) for 12 UTC 27 April 2011.\n\n"
      ]
    },
    {
      "cell_type": "code",
      "execution_count": null,
      "metadata": {
        "collapsed": false
      },
      "outputs": [],
      "source": [
        "base_url = 'https://www.ncei.noaa.gov/thredds/ncss/grid/namanl/'\ndt = datetime(2011, 4, 27)\nncss = NCSS('{}{dt:%Y%m}/{dt:%Y%m%d}/namanl_218_{dt:%Y%m%d}_'\n            '1800_000.grb'.format(base_url, dt=dt))\n\n# Query for required variables\ngfsdata = ncss.query().all_times()\ngfsdata.variables('Geopotential_height_isobaric',\n                  'u-component_of_wind_isobaric',\n                  'v-component_of_wind_isobaric',\n                  'Temperature_isobaric',\n                  'Relative_humidity_isobaric',\n                  'Best_4_layer_lifted_index_layer_between_two_pressure_'\n                  'difference_from_ground_layer',\n                  'Absolute_vorticity_isobaric',\n                  'Pressure_reduced_to_MSL_msl',\n                  'Dew_point_temperature_height_above_ground'\n                  ).add_lonlat()\n\n# Set the lat/lon box for the data to pull in.\ngfsdata.lonlat_box(-135, -60, 15, 65)\n\n# Actually getting the data\ndata = ncss.get_data(gfsdata)\n\n# Assign variable names to collected data\ndtime = data.variables['Geopotential_height_isobaric'].dimensions[0]\ndlev = data.variables['Geopotential_height_isobaric'].dimensions[1]\nlat = data.variables['lat'][:]\nlon = data.variables['lon'][:]\nlev = units.hPa * data.variables[dlev][:]\ntimes = data.variables[dtime]\nvtimes = num2date(times[:], times.units)\ntemps = data.variables['Temperature_isobaric']\ntmp = units.kelvin * temps[0, :]\nuwnd = (units.meter / units.second) * data.variables['u-component_of_wind_isobaric'][0, :]\nvwnd = (units.meter / units.second) * data.variables['v-component_of_wind_isobaric'][0, :]\nhgt = units.meter * data.variables['Geopotential_height_isobaric'][0, :]\nrelh = data.variables['Relative_humidity_isobaric'][0, :]\nlifted_index = (data.variables['Best_4_layer_lifted_index_layer_between_two_'\n                               'pressure_difference_from_ground_layer'][0, 0, :] *\n                units(data.variables['Best_4_layer_lifted_index_layer_between_two_'\n                                     'pressure_difference_from_ground_layer'].units))\nTd_sfc = (units(data.variables['Dew_point_temperature_height_above_ground'].units) *\n          data.variables['Dew_point_temperature_height_above_ground'][0, 0, :])\navor = data.variables['Absolute_vorticity_isobaric'][0, :] * units('1/s')\npmsl = (units(data.variables['Pressure_reduced_to_MSL_msl'].units) *\n        data.variables['Pressure_reduced_to_MSL_msl'][0, :])"
      ]
    },
    {
      "cell_type": "markdown",
      "metadata": {},
      "source": [
        "Query for 00 UTC to calculate pressure falls and height change\n\n"
      ]
    },
    {
      "cell_type": "code",
      "execution_count": null,
      "metadata": {
        "collapsed": false
      },
      "outputs": [],
      "source": [
        "ncss2 = NCSS('{}{dt:%Y%m}/{dt:%Y%m%d}/namanl_218_{dt:%Y%m%d}_'\n             '0600_000.grb'.format(base_url, dt=dt))\n\n# Query for required variables\ngfsdata = ncss.query().all_times()\ngfsdata.variables('Geopotential_height_isobaric',\n                  'Pressure_reduced_to_MSL_msl',\n                  ).add_lonlat()\n\n# Set the lat/lon box for the data you want to pull in.\ngfsdata.lonlat_box(-135, -60, 15, 65)\n\n# Actually getting the data\ndata2 = ncss2.get_data(gfsdata)\n\nhgt_00z = data2.variables['Geopotential_height_isobaric'][0, :] * units.meter\npmsl_00z = (units(data2.variables['Pressure_reduced_to_MSL_msl'].units) *\n            data2.variables['Pressure_reduced_to_MSL_msl'][0, :])"
      ]
    },
    {
      "cell_type": "markdown",
      "metadata": {},
      "source": [
        "**Subset the Data**\n\nWith the data pulled in, we will now subset to the specific levels desired\n\n"
      ]
    },
    {
      "cell_type": "code",
      "execution_count": null,
      "metadata": {
        "collapsed": false
      },
      "outputs": [],
      "source": [
        "# 300 hPa, index 28\nidx_300 = np.where(lev == 300. * units.hPa)[0][0]\nu_300 = uwnd[idx_300, :].to('kt')\nv_300 = vwnd[idx_300, :].to('kt')\n\n# 500 hPa, index 20\nidx_500 = np.where(lev == 500. * units.hPa)[0][0]\navor_500 = avor[1, ]\nu_500 = uwnd[idx_500, ].to('kt')\nv_500 = vwnd[idx_500, ].to('kt')\nhgt_500 = hgt[idx_500, ]\nhgt_500_00z = hgt_00z[idx_500, ]\n\n# 700 hPa, index 12\nidx_700 = np.where(lev == 700. * units.hPa)[0][0]\ntmp_700 = tmp[idx_700, ].to('degC')\nrh_700 = relh[idx_700, ] * units.percent\n\n# 850 hPa, index 6\nidx_850 = np.where(lev == 850. * units.hPa)[0][0]\nu_850 = uwnd[idx_850, ].to('kt')\nv_850 = vwnd[idx_850, ].to('kt')"
      ]
    },
    {
      "cell_type": "markdown",
      "metadata": {},
      "source": [
        "**Prepare Variables for Plotting**\n\nWith the data queried and subset, we will make any needed calculations in preparation for\nplotting.\n\n**The following fields should be plotted:**\n\n  500-hPa cyclonic vorticity advection\n\n  Surface-based Lifted Index\n\n  The axis of the 300-hPa, 500-hPa, and 850-hPa jets\n\n  Surface dewpoint\n\n  700-hPa dewpoint depression\n\n  12-hr surface pressure falls and 500-hPa height changes\n\n"
      ]
    },
    {
      "cell_type": "code",
      "execution_count": null,
      "metadata": {
        "collapsed": false
      },
      "outputs": [],
      "source": [
        "# 500 hPa CVA\ndx, dy = mpcalc.lat_lon_grid_deltas(lon, lat)\nvort_adv_500 = mpcalc.advection(avor_500, [u_500.to('m/s'), v_500.to('m/s')],\n                                (dx, dy), dim_order='yx') * 1e9\nvort_adv_500_smooth = gaussian_filter(vort_adv_500, 4)"
      ]
    },
    {
      "cell_type": "markdown",
      "metadata": {},
      "source": [
        "For the jet axes, we will calculate the windspeed at each level, and plot the highest values\n\n"
      ]
    },
    {
      "cell_type": "code",
      "execution_count": null,
      "metadata": {
        "collapsed": false
      },
      "outputs": [],
      "source": [
        "wspd_300 = gaussian_filter(mpcalc.wind_speed(u_300, v_300), 5)\nwspd_500 = gaussian_filter(mpcalc.wind_speed(u_500, v_500), 5)\nwspd_850 = gaussian_filter(mpcalc.wind_speed(u_850, v_850), 5)"
      ]
    },
    {
      "cell_type": "markdown",
      "metadata": {},
      "source": [
        "700-hPa dewpoint depression will be calculated from Temperature_isobaric and RH\n\n"
      ]
    },
    {
      "cell_type": "code",
      "execution_count": null,
      "metadata": {
        "collapsed": false
      },
      "outputs": [],
      "source": [
        "Td_dep_700 = tmp_700 - mpcalc.dewpoint_rh(tmp_700, rh_700 / 100.)"
      ]
    },
    {
      "cell_type": "markdown",
      "metadata": {},
      "source": [
        "12-hr surface pressure falls and 500-hPa height changes\n\n"
      ]
    },
    {
      "cell_type": "code",
      "execution_count": null,
      "metadata": {
        "collapsed": false
      },
      "outputs": [],
      "source": [
        "pmsl_change = pmsl - pmsl_00z\nhgt_500_change = hgt_500 - hgt_500_00z"
      ]
    },
    {
      "cell_type": "markdown",
      "metadata": {},
      "source": [
        "To plot the jet axes, we will mask the wind fields below the upper 1/3 of windspeed.\n\n"
      ]
    },
    {
      "cell_type": "code",
      "execution_count": null,
      "metadata": {
        "collapsed": false
      },
      "outputs": [],
      "source": [
        "mask_500 = ma.masked_less_equal(wspd_500, 0.66 * np.max(wspd_500)).mask\nu_500[mask_500] = np.nan\nv_500[mask_500] = np.nan\n\n# 300 hPa\nmask_300 = ma.masked_less_equal(wspd_300, 0.66 * np.max(wspd_300)).mask\nu_300[mask_300] = np.nan\nv_300[mask_300] = np.nan\n\n# 850 hPa\nmask_850 = ma.masked_less_equal(wspd_850, 0.66 * np.max(wspd_850)).mask\nu_850[mask_850] = np.nan\nv_850[mask_850] = np.nan"
      ]
    },
    {
      "cell_type": "markdown",
      "metadata": {},
      "source": [
        "**Create the Plot**\n\nWith the data now ready, we will create the plot\n\n"
      ]
    },
    {
      "cell_type": "code",
      "execution_count": null,
      "metadata": {
        "collapsed": false
      },
      "outputs": [],
      "source": [
        "# Set up our projection\ncrs = ccrs.LambertConformal(central_longitude=-100.0, central_latitude=45.0)\n\n\n# Coordinates to limit map area\nbounds = [-122., -75., 25., 50.]"
      ]
    },
    {
      "cell_type": "markdown",
      "metadata": {},
      "source": [
        "Plot the composite\n\n"
      ]
    },
    {
      "cell_type": "code",
      "execution_count": null,
      "metadata": {
        "collapsed": false
      },
      "outputs": [],
      "source": [
        "fig = plt.figure(1, figsize=(17, 12))\nax = fig.add_subplot(1, 1, 1, projection=crs)\nax.set_extent(bounds, crs=ccrs.PlateCarree())\nax.coastlines('50m', edgecolor='black', linewidth=0.75)\nax.add_feature(cfeature.STATES, linewidth=0.25)\n\n# Plot Lifted Index\ncs1 = ax.contour(lon, lat, lifted_index, range(-8, -2, 2), transform=ccrs.PlateCarree(),\n                 colors='red', linewidths=0.75, linestyles='solid', zorder=7)\ncs1.clabel(fontsize=10, inline=1, inline_spacing=7,\n           fmt='%i', rightside_up=True, use_clabeltext=True)\n\n# Plot Surface pressure falls\ncs2 = ax.contour(lon, lat, pmsl_change.to('hPa'), range(-10, -1, 4),\n                 transform=ccrs.PlateCarree(),\n                 colors='k', linewidths=0.75, linestyles='dashed', zorder=6)\ncs2.clabel(fontsize=10, inline=1, inline_spacing=7,\n           fmt='%i', rightside_up=True, use_clabeltext=True)\n\n# Plot 500-hPa height falls\ncs3 = ax.contour(lon, lat, hgt_500_change, range(-60, -29, 15),\n                 transform=ccrs.PlateCarree(), colors='k', linewidths=0.75,\n                 linestyles='solid', zorder=5)\ncs3.clabel(fontsize=10, inline=1, inline_spacing=7,\n           fmt='%i', rightside_up=True, use_clabeltext=True)\n\n# Plot surface pressure\nax.contourf(lon, lat, pmsl.to('hPa'), range(990, 1011, 20), alpha=0.5,\n            transform=ccrs.PlateCarree(),\n            colors='yellow', zorder=1)\n\n# Plot surface dewpoint\nax.contourf(lon, lat, Td_sfc.to('degF'), range(65, 76, 10), alpha=0.4,\n            transform=ccrs.PlateCarree(),\n            colors=['green'], zorder=2)\n\n# Plot 700-hPa dewpoint depression\nax.contourf(lon, lat, Td_dep_700, range(15, 46, 30), alpha=0.5, transform=ccrs.PlateCarree(),\n            colors='tan', zorder=3)\n\n# Plot Vorticity Advection\nax.contourf(lon, lat, vort_adv_500_smooth, range(5, 106, 100), alpha=0.5,\n            transform=ccrs.PlateCarree(),\n            colors='BlueViolet', zorder=4)\n\n# Define a skip to reduce the barb point density\nskip_300 = (slice(None, None, 12), slice(None, None, 12))\nskip_500 = (slice(None, None, 10), slice(None, None, 10))\nskip_850 = (slice(None, None, 8), slice(None, None, 8))\n\n# 300-hPa wind barbs\njet300 = ax.barbs(lon[skip_300], lat[skip_300], u_300[skip_300].m, v_300[skip_300].m, length=6,\n                  transform=ccrs.PlateCarree(),\n                  color='green', zorder=10, label='300-hPa Jet Core Winds (kt)')\n\n\n# 500-hPa wind barbs\njet500 = ax.barbs(lon[skip_500], lat[skip_500], u_500[skip_500].m, v_500[skip_500].m, length=6,\n                  transform=ccrs.PlateCarree(),\n                  color='blue', zorder=9, label='500-hPa Jet Core Winds (kt)')\n\n# 850-hPa wind barbs\njet850 = ax.barbs(lon[skip_850], lat[skip_850], u_850[skip_850].m, v_850[skip_850].m, length=6,\n                  transform=ccrs.PlateCarree(),\n                  color='k', zorder=8, label='850-hPa Jet Core Winds (kt)')\n\n# Legend\npurple = mpatches.Patch(color='BlueViolet', label='Cyclonic Absolute Vorticity Advection')\nyellow = mpatches.Patch(color='yellow', label='Surface MSLP < 1010 hPa')\ngreen = mpatches.Patch(color='green', label='Surface Td > 65 F')\ntan = mpatches.Patch(color='tan', label='700 hPa Dewpoint Depression > 15 C')\nred_line = lines.Line2D([], [], color='red', label='Best Lifted Index (C)')\ndashed_black_line = lines.Line2D([], [], linestyle='dashed', color='k',\n                                 label='12-hr Surface Pressure Falls (hPa)')\nblack_line = lines.Line2D([], [], linestyle='solid', color='k',\n                          label='12-hr 500-hPa Height Falls (m)')\nleg = plt.legend(handles=[jet300, jet500, jet850, dashed_black_line, black_line, red_line,\n                          purple, tan, green, yellow], loc=3,\n                 title='Composite Analysis Valid: {:s}'.format(str(vtimes[0])),\n                 framealpha=1)\nleg.set_zorder(100)\n\nplt.show()"
      ]
    }
  ],
  "metadata": {
    "kernelspec": {
      "display_name": "Python 3",
      "language": "python",
      "name": "python3"
    },
    "language_info": {
      "codemirror_mode": {
        "name": "ipython",
        "version": 3
      },
      "file_extension": ".py",
      "mimetype": "text/x-python",
      "name": "python",
      "nbconvert_exporter": "python",
      "pygments_lexer": "ipython3",
      "version": "3.7.3"
    }
  },
  "nbformat": 4,
  "nbformat_minor": 0
}