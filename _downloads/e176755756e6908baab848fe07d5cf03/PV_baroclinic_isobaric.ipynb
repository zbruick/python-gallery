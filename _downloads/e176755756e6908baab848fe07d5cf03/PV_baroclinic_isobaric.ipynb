{
  "cells": [
    {
      "cell_type": "code",
      "execution_count": null,
      "metadata": {
        "collapsed": false
      },
      "outputs": [],
      "source": [
        "%matplotlib inline"
      ]
    },
    {
      "cell_type": "markdown",
      "metadata": {},
      "source": [
        "\nBaroclinic Potential Vorticity Analysis, Divergence, and Winds\n==============================================================\n\nClassic baroclinic potential vorticity plot at 250 hPa using GFS\nanalysis file.\n\nThis example uses example data from the GFS analysis for 12 UTC 31\nOctober 2016 and uses xarray as the main read source with using MetPy to\ncalculate the baroclinic potential vorticity, divergence and wind speed\nwith geographic plotting using Cartopy for a CONUS view of the 250-hPa\nsurface with divergence and wind barbs.\n\nBy: Kevin Goebbert\n"
      ]
    },
    {
      "cell_type": "code",
      "execution_count": null,
      "metadata": {
        "collapsed": false
      },
      "outputs": [],
      "source": [
        "import cartopy.crs as ccrs\nimport cartopy.feature as cfeature\nimport matplotlib.pyplot as plt\nimport metpy.calc as mpcalc\nfrom metpy.units import units\nimport numpy as np\nimport xarray as xr"
      ]
    },
    {
      "cell_type": "markdown",
      "metadata": {},
      "source": [
        "The following code reads the example data using the xarray open_dataset\nfunction and prints the coordinate values that are associated with the\nvarious variables contained within the file.\n\nThis code uses the metpy accessor to parse file to make it easy to pull\ndata using common coordinate names (e.g., vertical) and attach units.\n\n\n"
      ]
    },
    {
      "cell_type": "code",
      "execution_count": null,
      "metadata": {
        "collapsed": false
      },
      "outputs": [],
      "source": [
        "ds = xr.open_dataset('https://thredds.ucar.edu/thredds/dodsC/'\n                     'casestudies/python-gallery/GFS_20101026_1200.nc').metpy.parse_cf()"
      ]
    },
    {
      "cell_type": "markdown",
      "metadata": {},
      "source": [
        "Data Retrieval\n--------------\n\nThis code retrieves the necessary data from the file and completes some\nsmoothing of the temperature, and wind fields using the MetPy function\nsmooth_n_point. A nicely formated valid time (vtime) variable is also\ncreated.\n\n\n"
      ]
    },
    {
      "cell_type": "code",
      "execution_count": null,
      "metadata": {
        "collapsed": false
      },
      "outputs": [],
      "source": [
        "# Set subset slice for the geographic extent of data to limit download\nlon_slice = slice(200, 350)\nlat_slice = slice(85, 10)\n\n# Grab lat/lon values (GFS will be 1D)\nlats = ds.lat.sel(lat=lat_slice).values\nlons = ds.lon.sel(lon=lon_slice).values\n\n\n# Grab the pressure levels and select the data to be imported\n# Need all pressure levels for Temperatures, U and V Wind, and Rel. Humidity\n# Smooth with the gaussian filter from scipy\npres = ds['isobaric3'].values[:] * units('Pa')\n\ntmpk_var = ds['Temperature_isobaric'].metpy.sel(lat=lat_slice, lon=lon_slice).squeeze()\ntmpk = mpcalc.smooth_n_point(tmpk_var, 9, 2)\nthta = mpcalc.potential_temperature(pres[:, None, None], tmpk)\n\nuwnd_var = ds['u-component_of_wind_isobaric'].metpy.sel(lat=lat_slice, lon=lon_slice).squeeze()\nvwnd_var = ds['v-component_of_wind_isobaric'].metpy.sel(lat=lat_slice, lon=lon_slice).squeeze()\nuwnd = mpcalc.smooth_n_point(uwnd_var, 9, 2)\nvwnd = mpcalc.smooth_n_point(vwnd_var, 9, 2)\n\n# Create a clean datetime object for plotting based on time of Geopotential heights\nvtime = ds.time.data[0].astype('datetime64[ms]').astype('O')"
      ]
    },
    {
      "cell_type": "markdown",
      "metadata": {},
      "source": [
        "Use MetPy to compute the baroclinic potential vorticity on all isobaric\nlevels and other variables\n\n\n"
      ]
    },
    {
      "cell_type": "code",
      "execution_count": null,
      "metadata": {
        "collapsed": false
      },
      "outputs": [],
      "source": [
        "# Compute dx and dy spacing for use in vorticity calculation\ndx, dy = mpcalc.lat_lon_grid_deltas(lons, lats)\n\n# Comput the PV on all isobaric surfaces\npv = mpcalc.potential_vorticity_baroclinic(thta, pres[:, None, None], uwnd, vwnd,\n                                           dx[None, :, :], dy[None, :, :],\n                                           lats[None, :, None] * units('degrees'))\n\n# Use MetPy to compute the divergence on the pressure surfaces\ndiv = mpcalc.divergence(uwnd, vwnd, dx[None, :, :], dy[None, :, :], dim_order='yx')\n\n# Find the index value for the 250-hPa surface\ni250 = list(pres.m).index(((250 * units('hPa')).to(pres.units)).m)"
      ]
    },
    {
      "cell_type": "markdown",
      "metadata": {},
      "source": [
        "Map Creation\n------------\n\nThis next set of code creates the plot and draws contours on a Lambert\nConformal map centered on -100 E longitude. The main view is over the\nCONUS with isobaric PV map with PV contoured every 1 PVU and divergence\ncolorshaded.\n\n\n"
      ]
    },
    {
      "cell_type": "code",
      "execution_count": null,
      "metadata": {
        "collapsed": false
      },
      "outputs": [],
      "source": [
        "# Set up the projection that will be used for plotting\nmapcrs = ccrs.LambertConformal(central_longitude=-100, central_latitude=35,\n                               standard_parallels=(30, 60))\n\n# Set up the projection of the data; if lat/lon then PlateCarree is what you want\ndatacrs = ccrs.PlateCarree()\n\n# Start the figure and create plot axes with proper projection\nfig = plt.figure(1, figsize=(14, 12))\nax = plt.subplot(111, projection=mapcrs)\nax.set_extent([-130, -72, 20, 55], ccrs.PlateCarree())\n\n# Add geopolitical boundaries for map reference\nax.add_feature(cfeature.COASTLINE.with_scale('50m'))\nax.add_feature(cfeature.STATES.with_scale('50m'))\n\n# Plot the contours of PV at 250 hPa, scaling 10^6 every 1 PVU\nclevs_pv = np.arange(0, 25, 1)\ncs1 = ax.contour(lons, lats, pv[i250]*1e6, clevs_pv, colors='black',\n                 transform=datacrs)\nplt.clabel(cs1, fmt='%d', fontsize='large')\n\n# Plot the colorfill of divergence, scaled 10^5 every 1 s^1\nclevs_div = np.arange(-15, 16, 1)\ncs1 = ax.contourf(lons, lats, div[i250]*1e5, clevs_div, cmap=plt.cm.PuOr,\n                  extend='both', transform=datacrs)\nplt.colorbar(cs1, orientation='horizontal', pad=0, aspect=50, extendrect=True)\n\n# Plot the wind barbs at 250 hPa\nwind_slice = slice(None, None, 6)\nax.barbs(lons[wind_slice], lats[wind_slice],\n         uwnd[i250][wind_slice, wind_slice].to('kt').m,\n         vwnd[i250][wind_slice, wind_slice].to('kt').m, pivot='middle',\n         color='black', length=6.5, transform=datacrs)\n\n# Plot some titles to tell people what is on the map\nplt.title('250-hPa GFS PV (PVU), Divergence ($10^5$ s$^{-1}$),'\n          ' and Wind Barbs (kt)', loc='left')\nplt.title('Valid Time: {}'.format(vtime), loc='right')\n\nplt.show()"
      ]
    }
  ],
  "metadata": {
    "kernelspec": {
      "display_name": "Python 3",
      "language": "python",
      "name": "python3"
    },
    "language_info": {
      "codemirror_mode": {
        "name": "ipython",
        "version": 3
      },
      "file_extension": ".py",
      "mimetype": "text/x-python",
      "name": "python",
      "nbconvert_exporter": "python",
      "pygments_lexer": "ipython3",
      "version": "3.7.3"
    }
  },
  "nbformat": 4,
  "nbformat_minor": 0
}