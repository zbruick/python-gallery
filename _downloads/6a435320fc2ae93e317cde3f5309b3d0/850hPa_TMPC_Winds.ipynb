{
  "cells": [
    {
      "cell_type": "code",
      "execution_count": null,
      "metadata": {
        "collapsed": false
      },
      "outputs": [],
      "source": [
        "%matplotlib inline"
      ]
    },
    {
      "cell_type": "markdown",
      "metadata": {},
      "source": [
        "\n850-hPa Geopotential Heights, Temperature, and Winds\n====================================================\n\nClassic 850-hPa with Geopotential Heights, Temperature, and Winds\n\nThis example uses example data from the GFS analysis for 12 UTC 26\nOctober 2010 and uses xarray as the main read source with using MetPy to\ncalculate frontogenesis and wind speed with geographic plotting using\nCartopy for a CONUS view.\n"
      ]
    },
    {
      "cell_type": "code",
      "execution_count": null,
      "metadata": {
        "collapsed": false
      },
      "outputs": [],
      "source": [
        "import cartopy.crs as ccrs\nimport cartopy.feature as cfeature\nimport matplotlib.pyplot as plt\nfrom metpy.units import units\nimport numpy as np\nimport xarray as xr"
      ]
    },
    {
      "cell_type": "markdown",
      "metadata": {},
      "source": [
        "Use Xarray to read netCDF data from a remote server and use MetPy\u2019s\nparse_cf() capability to make it easy to get arrays with attached units.\n\n\n"
      ]
    },
    {
      "cell_type": "code",
      "execution_count": null,
      "metadata": {
        "collapsed": false
      },
      "outputs": [],
      "source": [
        "ds = xr.open_dataset('https://thredds.ucar.edu/thredds/dodsC/casestudies/'\n                     'python-gallery/GFS_20101026_1200.nc').metpy.parse_cf()"
      ]
    },
    {
      "cell_type": "markdown",
      "metadata": {},
      "source": [
        "Subset Data\n-----------\n\nBring in individual variables and subset for domain that is being\nanalyzed (roughly CONUS). There are a couple of MetPy helpers being used\nhere to get arrays with units (``.metpy.unit_array``) and selecting on a\ngeneric \u201cvertical\u201d domain.\n\n\n"
      ]
    },
    {
      "cell_type": "code",
      "execution_count": null,
      "metadata": {
        "collapsed": false
      },
      "outputs": [],
      "source": [
        "# Set subset slice for the geographic extent of data to limit download\nlon_slice = slice(200, 350)\nlat_slice = slice(85, 10)\n\n# Grab lat/lon values (GFS will be 1D)\nlats = ds.lat.sel(lat=lat_slice).values\nlons = ds.lon.sel(lon=lon_slice).values\n\n# Set level to plot/analyze\nlevel = 850 * units.hPa\n\n# Grad individual data arrays with units from our file, selecting for level and lat/lon slice\nhght_850 = ds.Geopotential_height_isobaric.metpy.sel(\n    vertical=level, lat=lat_slice, lon=lon_slice).squeeze().metpy.unit_array\ntmpk_850 = ds.Temperature_isobaric.metpy.sel(\n    vertical=level, lat=lat_slice, lon=lon_slice).squeeze().metpy.unit_array\nuwnd_850 = ds['u-component_of_wind_isobaric'].metpy.sel(\n    vertical=level, lat=lat_slice, lon=lon_slice).squeeze().metpy.unit_array\nvwnd_850 = ds['v-component_of_wind_isobaric'].metpy.sel(\n    vertical=level, lat=lat_slice, lon=lon_slice).squeeze().metpy.unit_array\n\n# Convert temperatures to degree Celsius for plotting purposes\ntmpc_850 = tmpk_850.to('degC')\n\n# Get a sensible datetime format\nvtime = ds.time.data[0].astype('datetime64[ms]').astype('O')"
      ]
    },
    {
      "cell_type": "markdown",
      "metadata": {},
      "source": [
        "Figure Creation\n---------------\n\nHere we use Cartopy to plot a CONUS map using a Lambert Conformal\nprojection - note: the data is in a lat/lon projection, so the\nPlateCarree projection is used as the data projection.\n\n\n"
      ]
    },
    {
      "cell_type": "code",
      "execution_count": null,
      "metadata": {
        "collapsed": false
      },
      "outputs": [],
      "source": [
        "# Set output projection\nmapcrs = ccrs.LambertConformal(\n    central_longitude=-100, central_latitude=35, standard_parallels=(30, 60))\n\n# Set projection of data (so we can transform for the figure)\ndatacrs = ccrs.PlateCarree()\n\n# Start figure and set extent to be over CONUS\nfig = plt.figure(1, figsize=(14, 12))\nax = plt.subplot(111, projection=mapcrs)\nax.set_extent([-130, -72, 20, 55], ccrs.PlateCarree())\n\n# Add coastline and state map features\nax.add_feature(cfeature.COASTLINE.with_scale('50m'))\nax.add_feature(cfeature.STATES.with_scale('50m'))\n\n# Plot colorfill and dashed contours of 850-hPa temperatures in Celsius\nclevs_850_tmpc = np.arange(-40, 41, 2)\ncf = ax.contourf(lons, lats, tmpc_850, clevs_850_tmpc, cmap=plt.cm.coolwarm, transform=datacrs)\ncb = plt.colorbar(cf, orientation='horizontal', pad=0, aspect=50)\ncb.set_label('Temperature (C)')\ncsf = ax.contour(lons, lats, tmpc_850, clevs_850_tmpc, colors='grey',\n                 linestyles='dashed', transform=datacrs)\nplt.clabel(csf, fmt='%d')\n\n# Plot contours of 850-hPa geopotential heights in meters\nclevs_850_hght = np.arange(0, 8000, 30)\ncs = ax.contour(lons, lats, hght_850, clevs_850_hght, colors='black', transform=datacrs)\nplt.clabel(cs, fmt='%d')\n\n# Plot wind barbs every fifth element\nwind_slice = (slice(None, None, 5), slice(None, None, 5))\nax.barbs(lons[wind_slice[0]], lats[wind_slice[1]],\n         uwnd_850[wind_slice[0], wind_slice[1]].to('kt').m,\n         vwnd_850[wind_slice[0], wind_slice[1]].to('kt').m,\n         pivot='middle', color='black', transform=datacrs)\n\n# Add some titles\nplt.title('850-hPa GFS Geopotential Heights (m), Temperature (C), '\n          'and Wind Barbs (kt)', loc='left')\nplt.title('Valid Time: {}'.format(vtime), loc='right')\n\nplt.show()"
      ]
    }
  ],
  "metadata": {
    "kernelspec": {
      "display_name": "Python 3",
      "language": "python",
      "name": "python3"
    },
    "language_info": {
      "codemirror_mode": {
        "name": "ipython",
        "version": 3
      },
      "file_extension": ".py",
      "mimetype": "text/x-python",
      "name": "python",
      "nbconvert_exporter": "python",
      "pygments_lexer": "ipython3",
      "version": "3.7.3"
    }
  },
  "nbformat": 4,
  "nbformat_minor": 0
}