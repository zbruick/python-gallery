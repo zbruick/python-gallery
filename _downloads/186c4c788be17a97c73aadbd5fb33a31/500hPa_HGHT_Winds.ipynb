{
  "cells": [
    {
      "cell_type": "code",
      "execution_count": null,
      "metadata": {
        "collapsed": false
      },
      "outputs": [],
      "source": [
        "%matplotlib inline"
      ]
    },
    {
      "cell_type": "markdown",
      "metadata": {},
      "source": [
        "\n500 hPa Geopotential Heights and Winds\n======================================\n\nClassic 500-hPa plot using NAM analysis file.\n\nThis example uses example data from the NAM anlysis for 12 UTC 31\nOctober 2016 and uses xarray as the main read source with using Cartopy\nfor plotting a CONUS view of the 500-hPa geopotential heights, wind\nspeed, and wind barbs.\n"
      ]
    },
    {
      "cell_type": "markdown",
      "metadata": {},
      "source": [
        "Import the needed modules.\n\n\n"
      ]
    },
    {
      "cell_type": "code",
      "execution_count": null,
      "metadata": {
        "collapsed": false
      },
      "outputs": [],
      "source": [
        "from datetime import datetime\n\nimport cartopy.crs as ccrs\nimport cartopy.feature as cfeature\nimport matplotlib.pyplot as plt\nimport metpy.calc as mpcalc\nfrom metpy.units import units\nimport numpy as np\nfrom scipy.ndimage import gaussian_filter\nimport xarray as xr"
      ]
    },
    {
      "cell_type": "markdown",
      "metadata": {},
      "source": [
        "The following code reads the example data using the xarray open_dataset\nfunction and prints the coordinate values that are associated with the\nvarious variables contained within the file.\n\n\n"
      ]
    },
    {
      "cell_type": "code",
      "execution_count": null,
      "metadata": {
        "collapsed": false
      },
      "outputs": [],
      "source": [
        "ds = xr.open_dataset('https://thredds.ucar.edu/thredds/dodsC/casestudies/'\n                     'python-gallery/NAM_20161031_1200.nc')\nds.coords"
      ]
    },
    {
      "cell_type": "markdown",
      "metadata": {},
      "source": [
        "Data Retrieval\n--------------\n\nThis code retrieves the necessary data from the file and completes some\nsmoothing of the geopotential height and wind fields using the SciPy\nfunction gaussian_filter. A nicely formated valid time (vtime) variable\nis also created.\n\n\n"
      ]
    },
    {
      "cell_type": "code",
      "execution_count": null,
      "metadata": {
        "collapsed": false
      },
      "outputs": [],
      "source": [
        "# Grab lat/lon values (NAM will be 2D)\nlats = ds.lat.data\nlons = ds.lon.data\n\n# Select and grab data\nhght = ds['Geopotential_height_isobaric']\nuwnd = ds['u-component_of_wind_isobaric']\nvwnd = ds['v-component_of_wind_isobaric']\n\n# Select and grab 500-hPa geopotential heights and wind components, smooth with gaussian_filter\nhght_500 = gaussian_filter(hght.sel(isobaric=500).data[0], sigma=3.0)\nuwnd_500 = gaussian_filter(uwnd.sel(isobaric=500).data[0], sigma=3.0) * units('m/s')\nvwnd_500 = gaussian_filter(vwnd.sel(isobaric=500).data[0], sigma=3.0) * units('m/s')\n\n# Use MetPy to calculate the wind speed for colorfill plot, change units to knots from m/s\nsped_500 = mpcalc.wind_speed(uwnd_500, vwnd_500).to('kt')\n\n# Create a clean datetime object for plotting based on time of Geopotential heights\nvtime = datetime.strptime(str(ds.time.data[0].astype('datetime64[ms]')),\n                          '%Y-%m-%dT%H:%M:%S.%f')"
      ]
    },
    {
      "cell_type": "markdown",
      "metadata": {},
      "source": [
        "Map Creation\n------------\n\nThis next set of code creates the plot and draws contours on a Lambert\nConformal map centered on -100 E longitude. The main view is over the\nCONUS with geopotential heights contoured every 60 m and wind speed in\nknots every 20 knots starting at 30 kt.\n\n\n"
      ]
    },
    {
      "cell_type": "code",
      "execution_count": null,
      "metadata": {
        "collapsed": false
      },
      "outputs": [],
      "source": [
        "# Set up the projection that will be used for plotting\nmapcrs = ccrs.LambertConformal(central_longitude=-100,\n                               central_latitude=35,\n                               standard_parallels=(30, 60))\n\n# Set up the projection of the data; if lat/lon then PlateCarree is what you want\ndatacrs = ccrs.PlateCarree()\n\n# Start the figure and create plot axes with proper projection\nfig = plt.figure(1, figsize=(14, 12))\nax = plt.subplot(111, projection=mapcrs)\nax.set_extent([-130, -72, 20, 55], ccrs.PlateCarree())\n\n# Add geopolitical boundaries for map reference\nax.add_feature(cfeature.COASTLINE.with_scale('50m'))\nax.add_feature(cfeature.STATES.with_scale('50m'))\n\n# Plot 500-hPa Colorfill Wind Speeds in knots\nclevs_500_sped = np.arange(30, 150, 20)\ncf = ax.contourf(lons, lats, sped_500, clevs_500_sped, cmap=plt.cm.BuPu,\n                 transform=datacrs)\nplt.colorbar(cf, orientation='horizontal', pad=0, aspect=50)\n\n# Plot 500-hPa Geopotential Heights in meters\nclevs_500_hght = np.arange(0, 8000, 60)\ncs = ax.contour(lons, lats, hght_500, clevs_500_hght, colors='black',\n                transform=datacrs)\nplt.clabel(cs, fmt='%d')\n\n# Plot 500-hPa wind barbs in knots, regrid to reduce number of barbs\nax.barbs(lons, lats, uwnd_500.to('kt').m, vwnd_500.to('kt').m, pivot='middle',\n         color='black', regrid_shape=20, transform=datacrs)\n\n# Make some nice titles for the plot (one right, one left)\nplt.title('500-hPa NAM Geopotential Heights (m), Wind Speed (kt),'\n          ' and Wind Barbs (kt)', loc='left')\nplt.title('Valid Time: {}'.format(vtime), loc='right')\n\n# Adjust image and show\nplt.subplots_adjust(bottom=0, top=1)\nplt.show()"
      ]
    }
  ],
  "metadata": {
    "kernelspec": {
      "display_name": "Python 3",
      "language": "python",
      "name": "python3"
    },
    "language_info": {
      "codemirror_mode": {
        "name": "ipython",
        "version": 3
      },
      "file_extension": ".py",
      "mimetype": "text/x-python",
      "name": "python",
      "nbconvert_exporter": "python",
      "pygments_lexer": "ipython3",
      "version": "3.7.3"
    }
  },
  "nbformat": 4,
  "nbformat_minor": 0
}