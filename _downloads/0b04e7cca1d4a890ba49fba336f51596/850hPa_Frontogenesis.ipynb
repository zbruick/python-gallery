{
  "cells": [
    {
      "cell_type": "code",
      "execution_count": null,
      "metadata": {
        "collapsed": false
      },
      "outputs": [],
      "source": [
        "%matplotlib inline"
      ]
    },
    {
      "cell_type": "markdown",
      "metadata": {},
      "source": [
        "\n850-hPa Geopotential Heights, Temperature, Frontogenesis, and Winds\n===================================================================\n\nFrontogenesis at 850-hPa with Geopotential Heights, Temperature, and\nWinds\n\nThis example uses example data from the GFS analysis for 12 UTC 26\nOctober 2010 and uses xarray as the main read source with using MetPy to\ncalculate frontogenesis and wind speed with geographic plotting using\nCartopy for a CONUS view.\n"
      ]
    },
    {
      "cell_type": "markdown",
      "metadata": {},
      "source": [
        "Import the needed modules.\n\n\n"
      ]
    },
    {
      "cell_type": "code",
      "execution_count": null,
      "metadata": {
        "collapsed": false
      },
      "outputs": [],
      "source": [
        "import cartopy.crs as ccrs\nimport cartopy.feature as cfeature\nimport matplotlib.pyplot as plt\nimport metpy.calc as mpcalc\nfrom metpy.units import units\nimport numpy as np\nimport xarray as xr"
      ]
    },
    {
      "cell_type": "markdown",
      "metadata": {},
      "source": [
        "Use Xarray to access GFS data from THREDDS resource and uses\nmetpy accessor to parse file to make it easy to pull data using\ncommon coordinate names (e.g., vertical) and attach units.\n\n\n"
      ]
    },
    {
      "cell_type": "code",
      "execution_count": null,
      "metadata": {
        "collapsed": false
      },
      "outputs": [],
      "source": [
        "ds = xr.open_dataset('https://thredds.ucar.edu/thredds/dodsC/casestudies/'\n                     'python-gallery/GFS_20101026_1200.nc').metpy.parse_cf()"
      ]
    },
    {
      "cell_type": "markdown",
      "metadata": {},
      "source": [
        "Subset data based on latitude and longitude values, calculate potential\ntemperature for frontogenesis calculation.\n\n\n"
      ]
    },
    {
      "cell_type": "code",
      "execution_count": null,
      "metadata": {
        "collapsed": false
      },
      "outputs": [],
      "source": [
        "# Set subset slice for the geographic extent of data to limit download\nlon_slice = slice(200, 350)\nlat_slice = slice(85, 10)\n\n# Grab lat/lon values (GFS will be 1D)\nlats = ds.lat.sel(lat=lat_slice).values\nlons = ds.lon.sel(lon=lon_slice).values\n\nlevel = 850 * units.hPa\nhght_850 = ds.Geopotential_height_isobaric.metpy.sel(\n    vertical=level, lat=lat_slice, lon=lon_slice).metpy.unit_array.squeeze()\ntmpk_850 = ds.Temperature_isobaric.metpy.sel(\n    vertical=level, lat=lat_slice, lon=lon_slice).metpy.unit_array.squeeze()\nuwnd_850 = ds['u-component_of_wind_isobaric'].metpy.sel(\n    vertical=level, lat=lat_slice, lon=lon_slice).metpy.unit_array.squeeze()\nvwnd_850 = ds['v-component_of_wind_isobaric'].metpy.sel(\n    vertical=level, lat=lat_slice, lon=lon_slice).metpy.unit_array.squeeze()\n\n# Convert temperatures to degree Celsius for plotting purposes\ntmpc_850 = tmpk_850.to('degC')\n\n# Calculate potential temperature for frontogenesis calculation\nthta_850 = mpcalc.potential_temperature(level, tmpk_850)\n\n# Get a sensible datetime format\nvtime = ds.time.data[0].astype('datetime64[ms]').astype('O')"
      ]
    },
    {
      "cell_type": "markdown",
      "metadata": {},
      "source": [
        "Calculate frontogenesis\n-----------------------\n\nFrontogenesis calculation in MetPy requires temperature, wind\ncomponents, and grid spacings. First compute the grid deltas using MetPy\nfunctionality, then put it all together in the frontogenesis function.\n\nNote: MetPy will give the output with SI units, but typically\nfrontogenesis (read: GEMPAK) output this variable with units of K per\n100 km per 3 h; a conversion factor is included here to use at plot time\nto reflect those units.\n\n\n"
      ]
    },
    {
      "cell_type": "code",
      "execution_count": null,
      "metadata": {
        "collapsed": false
      },
      "outputs": [],
      "source": [
        "dx, dy = mpcalc.lat_lon_grid_deltas(lons, lats)\n\nfronto_850 = mpcalc.frontogenesis(thta_850, uwnd_850, vwnd_850, dx, dy, dim_order='yx')\n\n# A conversion factor to get frontogensis units of K per 100 km per 3 h\nconvert_to_per_100km_3h = 1000*100*3600*3"
      ]
    },
    {
      "cell_type": "markdown",
      "metadata": {},
      "source": [
        "Plotting Frontogenesis\n----------------------\n\nUsing a Lambert Conformal projection from Cartopy to plot 850-hPa\nvariables including frontogenesis.\n\n\n"
      ]
    },
    {
      "cell_type": "code",
      "execution_count": null,
      "metadata": {
        "collapsed": false
      },
      "outputs": [],
      "source": [
        "# Set map projection\nmapcrs = ccrs.LambertConformal(central_longitude=-100, central_latitude=35,\n                               standard_parallels=(30, 60))\n\n# Set projection of the data (GFS is lat/lon)\ndatacrs = ccrs.PlateCarree()\n\n# Start figure and limit the graphical area extent\nfig = plt.figure(1, figsize=(14, 12))\nax = plt.subplot(111, projection=mapcrs)\nax.set_extent([-130, -72, 20, 55], ccrs.PlateCarree())\n\n# Add map features of Coastlines and States\nax.add_feature(cfeature.COASTLINE.with_scale('50m'))\nax.add_feature(cfeature.STATES.with_scale('50m'))\n\n# Plot 850-hPa Frontogenesis\nclevs_tmpc = np.arange(-40, 41, 2)\ncf = ax.contourf(lons, lats, fronto_850*convert_to_per_100km_3h, np.arange(-8, 8.5, 0.5),\n                 cmap=plt.cm.bwr, extend='both', transform=datacrs)\ncb = plt.colorbar(cf, orientation='horizontal', pad=0, aspect=50, extendrect=True)\ncb.set_label('Frontogenesis K / 100 km / 3 h')\n\n# Plot 850-hPa Temperature in Celsius\ncsf = ax.contour(lons, lats, tmpc_850, clevs_tmpc, colors='grey',\n                 linestyles='dashed', transform=datacrs)\nplt.clabel(csf, fmt='%d')\n\n# Plot 850-hPa Geopotential Heights\nclevs_850_hght = np.arange(0, 8000, 30)\ncs = ax.contour(lons, lats, hght_850, clevs_850_hght, colors='black', transform=datacrs)\nplt.clabel(cs, fmt='%d')\n\n# Plot 850-hPa Wind Barbs only plotting every fifth barb\nwind_slice = (slice(None, None, 5), slice(None, None, 5))\nax.barbs(lons[wind_slice[0]], lats[wind_slice[1]],\n         uwnd_850[wind_slice].to('kt').m, vwnd_850[wind_slice].to('kt').m,\n         color='black', transform=datacrs)\n\n# Plot some titles\nplt.title('GFS 850-hPa Geopotential Heights (m), Temp (C), and Winds', loc='left')\nplt.title('Valid Time: {}'.format(vtime), loc='right')\n\nplt.show()"
      ]
    }
  ],
  "metadata": {
    "kernelspec": {
      "display_name": "Python 3",
      "language": "python",
      "name": "python3"
    },
    "language_info": {
      "codemirror_mode": {
        "name": "ipython",
        "version": 3
      },
      "file_extension": ".py",
      "mimetype": "text/x-python",
      "name": "python",
      "nbconvert_exporter": "python",
      "pygments_lexer": "ipython3",
      "version": "3.7.3"
    }
  },
  "nbformat": 4,
  "nbformat_minor": 0
}