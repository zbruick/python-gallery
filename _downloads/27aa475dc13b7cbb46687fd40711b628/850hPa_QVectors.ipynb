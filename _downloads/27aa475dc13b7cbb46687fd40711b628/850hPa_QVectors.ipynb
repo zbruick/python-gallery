{
  "cells": [
    {
      "cell_type": "code",
      "execution_count": null,
      "metadata": {
        "collapsed": false
      },
      "outputs": [],
      "source": [
        "%matplotlib inline"
      ]
    },
    {
      "cell_type": "markdown",
      "metadata": {},
      "source": [
        "\nQVector Example\n===============\n\nComputing Q-vectors and Q-vector divergence for a real case.\n\nBy: Kevin Goebbert\n\nThis example uses GFS output to compute the 850-hPa Q-vectors and\nQ-vector divergence for 12 UTC 26 October 2010.\n"
      ]
    },
    {
      "cell_type": "markdown",
      "metadata": {},
      "source": [
        "Import needed modules\n\n\n"
      ]
    },
    {
      "cell_type": "code",
      "execution_count": null,
      "metadata": {
        "collapsed": false
      },
      "outputs": [],
      "source": [
        "import cartopy.crs as ccrs\nimport cartopy.feature as cfeature\nimport matplotlib.pyplot as plt\nimport metpy.calc as mpcalc\nfrom metpy.units import units\nimport numpy as np\nimport xarray as xr"
      ]
    },
    {
      "cell_type": "markdown",
      "metadata": {},
      "source": [
        "Use Xarray to access GFS data from THREDDS resource and uses\nmetpy accessor to parse file to make it easy to pull data using\ncommon coordinate names (e.g., vertical) and attach units.\n\n\n"
      ]
    },
    {
      "cell_type": "code",
      "execution_count": null,
      "metadata": {
        "collapsed": false
      },
      "outputs": [],
      "source": [
        "ds = xr.open_dataset('https://thredds.ucar.edu/thredds/dodsC/casestudies/'\n                     'python-gallery/GFS_20101026_1200.nc').metpy.parse_cf()"
      ]
    },
    {
      "cell_type": "markdown",
      "metadata": {},
      "source": [
        "Subset data based on latitude and longitude values and select only data\nfrom 850 hPa\n\n\n"
      ]
    },
    {
      "cell_type": "code",
      "execution_count": null,
      "metadata": {
        "collapsed": false
      },
      "outputs": [],
      "source": [
        "# Set subset slice for the geographic extent of data to limit download\nlon_slice = slice(200, 350)\nlat_slice = slice(85, 10)\n\n# Grab lat/lon values (GFS will be 1D)\nlats = ds.lat.sel(lat=lat_slice).values\nlons = ds.lon.sel(lon=lon_slice).values\n\n# Grab data and smooth using a nine-point filter applied 50 times to grab the synoptic signal\nlevel = 850 * units.hPa\nhght_850 = mpcalc.smooth_n_point(ds.Geopotential_height_isobaric.metpy.sel(\n    vertical=level, lat=lat_slice, lon=lon_slice).squeeze(), 9, 50)\ntmpk_850 = mpcalc.smooth_n_point(ds.Temperature_isobaric.metpy.sel(\n    vertical=level, lat=lat_slice, lon=lon_slice).squeeze(), 9, 25)\nuwnd_850 = mpcalc.smooth_n_point(ds['u-component_of_wind_isobaric'].metpy.sel(\n    vertical=level, lat=lat_slice, lon=lon_slice).squeeze(), 9, 50)\nvwnd_850 = mpcalc.smooth_n_point(ds['v-component_of_wind_isobaric'].metpy.sel(\n    vertical=level, lat=lat_slice, lon=lon_slice).squeeze(), 9, 50)\n\n# Convert temperatures to degree Celsius for plotting purposes\ntmpc_850 = tmpk_850.to('degC')\n\n# Get a sensible datetime format\nvtime = ds.time.data[0].astype('datetime64[ms]').astype('O')"
      ]
    },
    {
      "cell_type": "markdown",
      "metadata": {},
      "source": [
        "Compute Q-vectors\n-----------------\n\nUse the MetPy module to compute Q-vectors from requisite data and\nadditionally compute the Q-vector divergence (and multiply by -2) to\ncalculate the right hand side forcing of the Q-G Omega equation.\n\n\n"
      ]
    },
    {
      "cell_type": "code",
      "execution_count": null,
      "metadata": {
        "collapsed": false
      },
      "outputs": [],
      "source": [
        "# Compute grid spacings for data\ndx, dy = mpcalc.lat_lon_grid_deltas(lons, lats)\n\n# Compute the Q-vector components\nuqvect, vqvect = mpcalc.q_vector(uwnd_850, vwnd_850, tmpk_850, 850*units.hPa, dx, dy)\n\n# Compute the divergence of the Q-vectors calculated above\nq_div = -2*mpcalc.divergence(uqvect, vqvect, dx, dy, dim_order='yx')"
      ]
    },
    {
      "cell_type": "markdown",
      "metadata": {},
      "source": [
        "Plot Data\n---------\n\nUse Cartopy to plot data on a map using a Lambert Conformal projection.\n\n\n"
      ]
    },
    {
      "cell_type": "code",
      "execution_count": null,
      "metadata": {
        "collapsed": false
      },
      "outputs": [],
      "source": [
        "# Set the map projection (how the data will be displayed)\nmapcrs = ccrs.LambertConformal(\n    central_longitude=-100, central_latitude=35, standard_parallels=(30, 60))\n\n# Set the data project (GFS is lat/lon format)\ndatacrs = ccrs.PlateCarree()\n\n# Start the figure and set an extent to only display a smaller graphics area\nfig = plt.figure(1, figsize=(14, 12))\nax = plt.subplot(111, projection=mapcrs)\nax.set_extent([-130, -72, 20, 55], ccrs.PlateCarree())\n\n# Add map features to plot coastlines and state boundaries\nax.add_feature(cfeature.COASTLINE.with_scale('50m'))\nax.add_feature(cfeature.STATES.with_scale('50m'))\n\n# Plot 850-hPa Q-Vector Divergence and scale\nclevs_850_tmpc = np.arange(-40, 41, 2)\nclevs_qdiv = list(range(-30, -4, 5))+list(range(5, 31, 5))\ncf = ax.contourf(lons, lats, q_div*1e18, clevs_qdiv, cmap=plt.cm.bwr,\n                 extend='both', transform=datacrs)\ncb = plt.colorbar(cf, orientation='horizontal', pad=0, aspect=50, extendrect=True,\n                  ticks=clevs_qdiv)\ncb.set_label('Q-Vector Div. (*10$^{18}$ m s$^{-1}$ kg$^{-1}$)')\n\n# Plot 850-hPa Temperatures\ncsf = ax.contour(lons, lats, tmpc_850, clevs_850_tmpc, colors='grey',\n                 linestyles='dashed', transform=datacrs)\nplt.clabel(csf, fmt='%d')\n\n# Plot 850-hPa Geopotential Heights\nclevs_850_hght = np.arange(0, 8000, 30)\ncs = ax.contour(lons, lats, hght_850, clevs_850_hght, colors='black', transform=datacrs)\nplt.clabel(cs, fmt='%d')\n\n# Plot 850-hPa Q-vectors, scale to get nice sized arrows\nwind_slice = (slice(None, None, 5), slice(None, None, 5))\nax.quiver(lons[wind_slice[0]], lats[wind_slice[1]],\n          uqvect[wind_slice].m,\n          vqvect[wind_slice].m,\n          pivot='mid', color='black',\n          scale=1e-11, scale_units='inches',\n          transform=datacrs)\n\n# Add some titles\nplt.title('850-hPa GFS Geo. Heights (m), Temp (C),'\n          ' and Q-Vectors (m$^2$ kg$^{-1}$ s$^{-1}$)', loc='left')\nplt.title('Valid Time: {}'.format(vtime), loc='right')\n\nplt.show()"
      ]
    }
  ],
  "metadata": {
    "kernelspec": {
      "display_name": "Python 3",
      "language": "python",
      "name": "python3"
    },
    "language_info": {
      "codemirror_mode": {
        "name": "ipython",
        "version": 3
      },
      "file_extension": ".py",
      "mimetype": "text/x-python",
      "name": "python",
      "nbconvert_exporter": "python",
      "pygments_lexer": "ipython3",
      "version": "3.7.3"
    }
  },
  "nbformat": 4,
  "nbformat_minor": 0
}